{
 "cells": [
  {
   "cell_type": "markdown",
   "metadata": {},
   "source": [
    "Es el momento de meter todos nuestros datos en SQL 💪🏽!!! En este ejercicio nos crearemos dos tablas en una BBDD creada por nosotras. Una de las tablas contendrá la información que obtuvimos de los ejercicios de pair programming de Limpieza, es decir, el data set de ataques de tiburones limpito. La segunda tabla tendrá la información obtenida en el ejercicio de pair de ETL 1.\n",
    "\n",
    "📌 Nota Todo lo tendremos que hacer desde jupyter notebook"
   ]
  },
  {
   "cell_type": "code",
   "execution_count": 14,
   "metadata": {},
   "outputs": [],
   "source": [
    "import pandas as pd\n",
    "import mysql.connector\n",
    "pd.options.display.max_rows=None\n"
   ]
  },
  {
   "cell_type": "code",
   "execution_count": 7,
   "metadata": {},
   "outputs": [
    {
     "data": {
      "text/html": [
       "<div>\n",
       "<style scoped>\n",
       "    .dataframe tbody tr th:only-of-type {\n",
       "        vertical-align: middle;\n",
       "    }\n",
       "\n",
       "    .dataframe tbody tr th {\n",
       "        vertical-align: top;\n",
       "    }\n",
       "\n",
       "    .dataframe thead th {\n",
       "        text-align: right;\n",
       "    }\n",
       "</style>\n",
       "<table border=\"1\" class=\"dataframe\">\n",
       "  <thead>\n",
       "    <tr style=\"text-align: right;\">\n",
       "      <th></th>\n",
       "      <th>year</th>\n",
       "      <th>type</th>\n",
       "      <th>country</th>\n",
       "      <th>age</th>\n",
       "      <th>species_</th>\n",
       "      <th>fecha_limpia</th>\n",
       "      <th>fatal</th>\n",
       "      <th>sex</th>\n",
       "      <th>timepoint</th>\n",
       "      <th>cloudcover</th>\n",
       "      <th>...</th>\n",
       "      <th>layer400mb_direction</th>\n",
       "      <th>layer400mb_speed</th>\n",
       "      <th>layer350mb_direction</th>\n",
       "      <th>layer350mb_speed</th>\n",
       "      <th>layer300mb_direction</th>\n",
       "      <th>layer300mb_speed</th>\n",
       "      <th>layer250mb_direction</th>\n",
       "      <th>layer250mb_speed</th>\n",
       "      <th>layer200mb_direction</th>\n",
       "      <th>layer200mb_speed</th>\n",
       "    </tr>\n",
       "  </thead>\n",
       "  <tbody>\n",
       "    <tr>\n",
       "      <th>0</th>\n",
       "      <td>2018</td>\n",
       "      <td>Boating</td>\n",
       "      <td>usa</td>\n",
       "      <td>57.0</td>\n",
       "      <td>White shark</td>\n",
       "      <td>Jun</td>\n",
       "      <td>N</td>\n",
       "      <td>F</td>\n",
       "      <td>97.5</td>\n",
       "      <td>6.4375</td>\n",
       "      <td>...</td>\n",
       "      <td>209.21875</td>\n",
       "      <td>3.578125</td>\n",
       "      <td>202.109375</td>\n",
       "      <td>3.9375</td>\n",
       "      <td>206.40625</td>\n",
       "      <td>4.296875</td>\n",
       "      <td>215.546875</td>\n",
       "      <td>4.71875</td>\n",
       "      <td>246.09375</td>\n",
       "      <td>5.21875</td>\n",
       "    </tr>\n",
       "  </tbody>\n",
       "</table>\n",
       "<p>1 rows × 70 columns</p>\n",
       "</div>"
      ],
      "text/plain": [
       "   year     type country   age     species_ fecha_limpia fatal sex  timepoint  \\\n",
       "0  2018  Boating     usa  57.0  White shark          Jun     N   F       97.5   \n",
       "\n",
       "   cloudcover  ...  layer400mb_direction  layer400mb_speed  \\\n",
       "0      6.4375  ...             209.21875          3.578125   \n",
       "\n",
       "   layer350mb_direction  layer350mb_speed  layer300mb_direction  \\\n",
       "0            202.109375            3.9375             206.40625   \n",
       "\n",
       "   layer300mb_speed  layer250mb_direction  layer250mb_speed  \\\n",
       "0          4.296875            215.546875           4.71875   \n",
       "\n",
       "   layer200mb_direction  layer200mb_speed  \n",
       "0             246.09375           5.21875  \n",
       "\n",
       "[1 rows x 70 columns]"
      ]
     },
     "execution_count": 7,
     "metadata": {},
     "output_type": "execute_result"
    }
   ],
   "source": [
    "df = pd.read_csv('datos/input/attacks_clima_paises_2022-09-18.csv', index_col=0)\n",
    "df.head(1)"
   ]
  },
  {
   "cell_type": "code",
   "execution_count": 8,
   "metadata": {},
   "outputs": [
    {
     "data": {
      "text/plain": [
       "Index(['year', 'type', 'country', 'age', 'species_', 'fecha_limpia', 'fatal',\n",
       "       'sex', 'timepoint', 'cloudcover', 'highcloud', 'midcloud', 'lowcloud',\n",
       "       'temp2m', 'lifted_index', 'rh2m', 'msl_pressure', 'prec_amount',\n",
       "       'snow_depth', 'wind10m.speed', 'latitud', 'longitud', 'rh_layer_950mb',\n",
       "       'rh_layer_900mb', 'rh_layer_850mb', 'rh_layer_800mb', 'rh_layer_750mb',\n",
       "       'rh_layer_700mb', 'rh_layer_650mb', 'rh_layer_600mb', 'rh_layer_550mb',\n",
       "       'rh_layer_500mb', 'rh_layer_450mb', 'rh_layer_400mb', 'rh_layer_350mb',\n",
       "       'rh_layer_300mb', 'rh_layer_250mb', 'rh_layer_200mb',\n",
       "       'layer950mb_direction', 'layer950mb_speed', 'layer900mb_direction',\n",
       "       'layer900mb_speed', 'layer850mb_direction', 'layer850mb_speed',\n",
       "       'layer800mb_direction', 'layer800mb_speed', 'layer750mb_direction',\n",
       "       'layer750mb_speed', 'layer700mb_direction', 'layer700mb_speed',\n",
       "       'layer650mb_direction', 'layer650mb_speed', 'layer600mb_direction',\n",
       "       'layer600mb_speed', 'layer550mb_direction', 'layer550mb_speed',\n",
       "       'layer500mb_direction', 'layer500mb_speed', 'layer450mb_direction',\n",
       "       'layer450mb_speed', 'layer400mb_direction', 'layer400mb_speed',\n",
       "       'layer350mb_direction', 'layer350mb_speed', 'layer300mb_direction',\n",
       "       'layer300mb_speed', 'layer250mb_direction', 'layer250mb_speed',\n",
       "       'layer200mb_direction', 'layer200mb_speed'],\n",
       "      dtype='object')"
      ]
     },
     "execution_count": 8,
     "metadata": {},
     "output_type": "execute_result"
    }
   ],
   "source": [
    "df.columns"
   ]
  },
  {
   "cell_type": "markdown",
   "metadata": {},
   "source": [
    "1. Cread la BBDD con el nombre de tiburones."
   ]
  },
  {
   "cell_type": "code",
   "execution_count": 9,
   "metadata": {},
   "outputs": [],
   "source": [
    "def crear_bbdd(nombre_bbdd):\n",
    "\n",
    "    mydb = mysql.connector.connect(\n",
    "      host=\"127.0.0.1\",\n",
    "      user=\"root\",\n",
    "      password=\"AlumnaAdalab\" # aquí tendréis que poner vuestra contraseña de MySQL\n",
    "    )\n",
    "    print(\"Conexión realizada con éxito\")\n",
    "    \n",
    "    mycursor = mydb.cursor()\n",
    "\n",
    "    try:\n",
    "        mycursor.execute(f\"CREATE DATABASE IF NOT EXISTS {nombre_bbdd};\")\n",
    "        print(mycursor)\n",
    "    except mysql.connector.Error as err:\n",
    "        print(err)\n",
    "        print(\"Error Code:\", err.errno)\n",
    "        print(\"SQLSTATE\", err.sqlstate)\n",
    "        print(\"Message\", err.msg)\n"
   ]
  },
  {
   "cell_type": "code",
   "execution_count": 10,
   "metadata": {},
   "outputs": [
    {
     "name": "stdout",
     "output_type": "stream",
     "text": [
      "Conexión realizada con éxito\n",
      "CMySQLCursor: CREATE DATABASE IF NOT EXISTS tiburones;\n"
     ]
    }
   ],
   "source": [
    "bbdd = crear_bbdd('tiburones')"
   ]
  },
  {
   "cell_type": "markdown",
   "metadata": {},
   "source": [
    "2. Cread las tablas de la BBDD:\n",
    "- Tabla ataques\n",
    "- Tabla clima"
   ]
  },
  {
   "cell_type": "code",
   "execution_count": 16,
   "metadata": {},
   "outputs": [],
   "source": [
    "def crear_insertar_tabla(nombre_bbdd, contraseña, query):\n",
    "    \n",
    "    # nos conectamsos con el servidor usando el conector de sql\n",
    "    cnx = mysql.connector.connect(user='root', password=f\"{contraseña}\",\n",
    "                                     host='127.0.0.1', database=f\"{nombre_bbdd}\")\n",
    "    # iniciamos el cursor\n",
    "    mycursor = cnx.cursor()\n",
    "    \n",
    "    # intentamos hacer la query\n",
    "    try: \n",
    "        mycursor.execute(query)\n",
    "        cnx.commit() \n",
    "    # en caso de que podamos ejecutar la query devuelvenos un error para saber en que nos estamos equivocando\n",
    "    except mysql.connector.Error as err:\n",
    "        print(err)\n",
    "        print(\"Error Code:\", err.errno)\n",
    "        print(\"SQLSTATE\", err.sqlstate)\n",
    "        print(\"Message\", err.msg)\n"
   ]
  },
  {
   "cell_type": "markdown",
   "metadata": {},
   "source": [
    "Creación de la tabla `ataques`"
   ]
  },
  {
   "cell_type": "code",
   "execution_count": 39,
   "metadata": {},
   "outputs": [],
   "source": [
    "tabla_attacks = ''' \n",
    "    CREATE TABLE IF NOT EXISTS `attacks` (\n",
    "    `id_attacks` INT NOT NULL AUTO_INCREMENT,\n",
    "    `id_climate` INT NOT NULL,\n",
    "    `year` INT DEFAULT NULL,\n",
    "    `type` VARCHAR(50) DEFAULT NULL, \n",
    "    `country` VARCHAR(50) DEFAULT NULL,  \n",
    "    `age` FLOAT DEFAULT NULL,\n",
    "    `species` VARCHAR(50) DEFAULT NULL,\n",
    "    `date` VARCHAR (10) DEFAULT NULL,\n",
    "    `fatal` CHAR (1) DEFAULT NULL,\n",
    "    `sex` CHAR (1) DEFAULT NULL,\n",
    "    PRIMARY KEY (`id_attacks`),\n",
    "    INDEX `fk_attacks_climate` (`id_climate` ASC),\n",
    "    CONSTRAINT `fk_attacks_climate`\n",
    "    FOREIGN KEY (`id_climate`)\n",
    "    REFERENCES `tiburones`.`climate` (`id_climate`)\n",
    "    )\n",
    "    \n",
    "    ENGINE = InnoDB;\n",
    "    '''"
   ]
  },
  {
   "cell_type": "markdown",
   "metadata": {},
   "source": [
    "Creación de la tabla `clima`"
   ]
  },
  {
   "cell_type": "code",
   "execution_count": 32,
   "metadata": {},
   "outputs": [],
   "source": [
    "tabla_climate = '''\n",
    "       CREATE TABLE IF NOT EXISTS `climate` (\n",
    "       `id_climate` INT NOT NULL AUTO_INCREMENT,\n",
    "       `timepoint` FLOAT DEFAULT NULL, \n",
    "       `cloudcover` FLOAT DEFAULT NULL, \n",
    "       `highcloud` FLOAT DEFAULT NULL, \n",
    "       `midcloud` FLOAT DEFAULT NULL, \n",
    "       `lowcloud` FLOAT DEFAULT NULL,\n",
    "       `temp2m` FLOAT DEFAULT NULL, \n",
    "       `lifted_index` FLOAT DEFAULT NULL, \n",
    "       `rh2m` FLOAT DEFAULT NULL, \n",
    "       `msl_pressure` FLOAT DEFAULT NULL, \n",
    "       `prec_amount` FLOAT DEFAULT NULL,\n",
    "       `snow_depth` FLOAT DEFAULT NULL, \n",
    "       `wind_speed` FLOAT DEFAULT NULL, \n",
    "       `latitud` FLOAT DEFAULT NULL, \n",
    "       `longitud` FLOAT DEFAULT NULL, \n",
    "       `rh_layer_950mb` FLOAT DEFAULT NULL,\n",
    "       `rh_layer_900mb` FLOAT DEFAULT NULL, \n",
    "       `rh_layer_850mb` FLOAT DEFAULT NULL, \n",
    "       `rh_layer_800mb` FLOAT DEFAULT NULL, \n",
    "       `rh_layer_750mb` FLOAT DEFAULT NULL,\n",
    "       `rh_layer_700mb` FLOAT DEFAULT NULL, \n",
    "       `rh_layer_650mb` FLOAT DEFAULT NULL, \n",
    "       `rh_layer_600mb` FLOAT DEFAULT NULL, \n",
    "       `rh_layer_550mb` FLOAT DEFAULT NULL,\n",
    "       `rh_layer_500mb` FLOAT DEFAULT NULL,\n",
    "       `rh_layer_450mb` FLOAT DEFAULT NULL, \n",
    "       `rh_layer_400mb` FLOAT DEFAULT NULL, \n",
    "       `rh_layer_350mb` FLOAT DEFAULT NULL,\n",
    "       `rh_layer_300mb` FLOAT DEFAULT NULL,\n",
    "       `rh_layer_250mb` FLOAT DEFAULT NULL, \n",
    "       `rh_layer_200mb` FLOAT DEFAULT NULL,\n",
    "       `layer950mb_direction` FLOAT DEFAULT NULL, \n",
    "       `layer950mb_speed` FLOAT DEFAULT NULL, \n",
    "       `layer900mb_direction` FLOAT DEFAULT NULL,\n",
    "       `layer900mb_speed` FLOAT DEFAULT NULL, \n",
    "       `layer850mb_direction` FLOAT DEFAULT NULL, \n",
    "       `layer850mb_speed` FLOAT DEFAULT NULL,\n",
    "       `layer800mb_direction` FLOAT DEFAULT NULL, \n",
    "       `layer800mb_speed` FLOAT DEFAULT NULL, \n",
    "       `layer750mb_direction` FLOAT DEFAULT NULL,\n",
    "       `layer750mb_speed` FLOAT DEFAULT NULL, \n",
    "       `layer700mb_direction` FLOAT DEFAULT NULL, \n",
    "       `layer700mb_speed` FLOAT DEFAULT NULL,\n",
    "       `layer650mb_direction` FLOAT DEFAULT NULL, \n",
    "       `layer650mb_speed` FLOAT DEFAULT NULL,\n",
    "       `layer600mb_direction` FLOAT DEFAULT NULL,\n",
    "       `layer600mb_speed` FLOAT DEFAULT NULL,\n",
    "       `layer550mb_direction` FLOAT DEFAULT NULL, \n",
    "       `layer550mb_speed` FLOAT DEFAULT NULL,\n",
    "       `layer500mb_direction` FLOAT DEFAULT NULL,\n",
    "       `layer500mb_speed` FLOAT DEFAULT NULL, \n",
    "       `layer450mb_direction` FLOAT DEFAULT NULL,\n",
    "       `layer450mb_speed` FLOAT DEFAULT NULL,\n",
    "       `layer400mb_direction` FLOAT DEFAULT NULL,\n",
    "       `layer400mb_speed` FLOAT DEFAULT NULL,\n",
    "       `layer350mb_direction` FLOAT DEFAULT NULL,\n",
    "       `layer350mb_speed` FLOAT DEFAULT NULL,\n",
    "       `layer300mb_direction` FLOAT DEFAULT NULL,\n",
    "       `layer300mb_speed` FLOAT DEFAULT NULL,\n",
    "       `layer250mb_direction` FLOAT DEFAULT NULL,\n",
    "       `layer250mb_speed` FLOAT DEFAULT NULL,\n",
    "       `layer200mb_direction` FLOAT DEFAULT NULL,\n",
    "       `layer200mb_speed` FLOAT DEFAULT NULL,\n",
    "       PRIMARY KEY (`id_climate`))\n",
    "    \n",
    "    ENGINE = InnoDB;\n",
    "       '''"
   ]
  },
  {
   "cell_type": "markdown",
   "metadata": {},
   "source": [
    "Llamamos a la función para crear cada una de las tablas de nuestra BBDD. "
   ]
  },
  {
   "cell_type": "code",
   "execution_count": 33,
   "metadata": {},
   "outputs": [],
   "source": [
    "crear_insertar_tabla(\"tiburones\",\"AlumnaAdalab\", tabla_climate)"
   ]
  },
  {
   "cell_type": "code",
   "execution_count": 40,
   "metadata": {},
   "outputs": [],
   "source": [
    "crear_insertar_tabla(\"tiburones\", \"AlumnaAdalab\", tabla_attacks)"
   ]
  },
  {
   "cell_type": "markdown",
   "metadata": {},
   "source": [
    "3. BONUS Insertar los datos en las tablas.\n",
    "\n",
    "📌 Nota Esta parte del pair es optativa y no será considerada para la evaluación"
   ]
  }
 ],
 "metadata": {
  "kernelspec": {
   "display_name": "Python 3.10.5 64-bit",
   "language": "python",
   "name": "python3"
  },
  "language_info": {
   "codemirror_mode": {
    "name": "ipython",
    "version": 3
   },
   "file_extension": ".py",
   "mimetype": "text/x-python",
   "name": "python",
   "nbconvert_exporter": "python",
   "pygments_lexer": "ipython3",
   "version": "3.10.5"
  },
  "orig_nbformat": 4,
  "vscode": {
   "interpreter": {
    "hash": "6c417e8ec6dca726918e9382ccd5f9a276f75c00fe45ac2c66804bdd5db60888"
   }
  }
 },
 "nbformat": 4,
 "nbformat_minor": 2
}
