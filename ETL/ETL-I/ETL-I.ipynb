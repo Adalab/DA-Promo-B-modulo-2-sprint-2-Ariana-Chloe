{
 "cells": [
  {
   "cell_type": "markdown",
   "metadata": {},
   "source": [
    "Vamos a nutrir los datos de los ataques de los tiburones con información climática de los paises que tenemos. Para eso vamos a usar la API del clima que hemos aprendido en la clase invertida:\n",
    "\n",
    "`url = f'http://www.7timer.info/bin/api.pl?lon=-{lon}&lat={lat}&product={producto}&output=json'`\n",
    "\n",
    "En este caso os recomendamos que uséis el producto `meteo` para obtener la información climática. Para hacer la llamada a la API necesitamos también las coordenadas de los paises que tenemos en el *dataset*.\n",
    "\n",
    "Por lo tanto, el objetivo es que saquéis la información del clima de la API para los paises que tenemos. Pero antes de poneros manos a la obra, tenemos muchísimos países y esto puede hacerse eterno. Sacad la información climática solo para los siguientes países, con las siguientes coordenadas:\n",
    "\n",
    ">Pais, Latitud, Longitud\n",
    ">\n",
    ">USA,\n",
    ">39.7837304,\n",
    ">-100.445882\n",
    ">\n",
    ">Australia,\n",
    ">-24.7761086,\n",
    ">134.755\n",
    ">\n",
    ">South Africa,\n",
    ">-28.8166236,\n",
    ">24.991639\n",
    ">\n",
    ">New Zealand,\n",
    ">-41.5000831,\n",
    ">172.8344077\n",
    ">\n",
    ">Papua New Guinea,\n",
    ">-5.6816069,\n",
    ">144.2489081\n"
   ]
  },
  {
   "cell_type": "markdown",
   "metadata": {},
   "source": [
    "\n",
    "* Requisitos de este ejercicio de pair programming:\n",
    "* Deberéis meter toda la información climática en un único dataframe.\n",
    "* Deberéis hacer la llamada a la API de una sola vez. Es decir, tendréis que iterar por la lista de países y sacar la información del clima para cada uno de ellos.\n",
    "* Al meter toda la información en un único dataframe tendremos que crear una columna que corresponda con el nombre del país.\n",
    "* Guardar el dataframe obtenido para usarlo en la siguiente sesión de pair programming.\n",
    "\n",
    "💡 Pistas 💡:\n",
    "\n",
    "* Crearos un diccionario donde:\n",
    "    * Las keys sean los nombres de los paises\n",
    "\n",
    "    * Los values sean las coordenadas de los paises en formato lista.\n",
    "\n",
    "* Iterar por el diccionario. Dentro del for haremos la llamada a la API como hemos aprendido en las clases invertidas. Recordamos que para iterar por el diccionario tenemos que seguir la siguiente estructura:\n",
    "```python \n",
    "for key, value in diccionario.items():\n",
    "    print(key, value)\n",
    "```\n",
    "* Crearnos un dataframe vacío donde iremos concatenando los datos obtenidos de la API cada país.\n",
    "\n",
    "* Guardad el csv ya que mañana lo necesitaremos para hacer el ejercicio de pair programming."
   ]
  },
  {
   "cell_type": "code",
   "execution_count": 11,
   "metadata": {},
   "outputs": [],
   "source": [
    "from IPython.core.interactiveshell import InteractiveShell \n",
    "InteractiveShell.ast_node_interactivity = \"all\"\n",
    "\n",
    "import requests\n",
    "import pandas as pd\n",
    "import numpy as np\n",
    "from datetime import datetime"
   ]
  },
  {
   "cell_type": "code",
   "execution_count": 12,
   "metadata": {},
   "outputs": [],
   "source": [
    "# Definimos el diccionario\n",
    "diccionario = {'usa':[39.7837304, -100.445882], \n",
    "               'australia':[-24.7761086, 134.755], \n",
    "               'south africa':[-28.8166236, 24.991639], \n",
    "               'new zealand':[-41.5000831, 172.8344077], \n",
    "               'papua new guinea':[-5.6816069, 144.2489081]}"
   ]
  },
  {
   "cell_type": "code",
   "execution_count": 13,
   "metadata": {},
   "outputs": [],
   "source": [
    "# Tras probar cómo se haría con un solo país\n",
    "# Hacemos el bucle for\n",
    "\n",
    "def extracciones_paises(diccionario):\n",
    "    # Creamos un df vacío\n",
    "    df_all= pd.DataFrame()\n",
    "    \n",
    "    for key, value in diccionario.items():\n",
    "        # Extraemos la latitud y la longitud\n",
    "        lat = value[0]\n",
    "        lon = value[1]\n",
    "        pais = key\n",
    "        producto = 'meteo'\n",
    "\n",
    "        url = f'http://www.7timer.info/bin/api.pl?lon=-{lon}&lat={lat}&product={producto}&output=json'\n",
    "        # Llamamos a la Api\n",
    "        response = requests.get(url)\n",
    "     \n",
    "        df = pd.json_normalize(response.json()['dataseries'])\n",
    "        df['pais'] = key\n",
    "        df['latitud'] = lat\n",
    "        df['longitud'] = lon\n",
    "        # Concatenamos cada df extraído al df vacío inicial\n",
    "        df_all = pd.concat([df_all, df], axis = 0, ignore_index=True)\n",
    "\n",
    "        if response.status_code == 200:\n",
    "            print('La peticion se ha realizado correctamente, se ha devuelto el código de estado:',response.status_code,' y como razón del código de estado: ',response.reason)\n",
    "        elif response.status_code == 402:\n",
    "            print('No se ha podido autorizar usario, se ha devuelto el código de estado:', response.status_code,' y como razón del código de estado: ',response.reason)\n",
    "        elif response.status_code == 404:\n",
    "            print('Algo ha salido mal, el recurso no se ha encontrado,se ha devuelto el código de estado:', response.status_code,' y como razón del código de estado: ',response.reason)\n",
    "        else:\n",
    "            print('Algo inesperado ha ocurrido, se ha devuelto el código de estado:', response.status_code,' y como razón del código de estado: ',response.reason)\n",
    "        \n",
    "    return df_all\n",
    "    "
   ]
  },
  {
   "cell_type": "code",
   "execution_count": 14,
   "metadata": {},
   "outputs": [
    {
     "name": "stdout",
     "output_type": "stream",
     "text": [
      "La peticion se ha realizado correctamente, se ha devuelto el código de estado: 200  y como razón del código de estado:  OK\n",
      "La peticion se ha realizado correctamente, se ha devuelto el código de estado: 200  y como razón del código de estado:  OK\n",
      "La peticion se ha realizado correctamente, se ha devuelto el código de estado: 200  y como razón del código de estado:  OK\n",
      "La peticion se ha realizado correctamente, se ha devuelto el código de estado: 200  y como razón del código de estado:  OK\n",
      "La peticion se ha realizado correctamente, se ha devuelto el código de estado: 200  y como razón del código de estado:  OK\n"
     ]
    }
   ],
   "source": [
    "df_paises = extracciones_paises(diccionario)"
   ]
  },
  {
   "cell_type": "code",
   "execution_count": 15,
   "metadata": {},
   "outputs": [
    {
     "data": {
      "text/html": [
       "<div>\n",
       "<style scoped>\n",
       "    .dataframe tbody tr th:only-of-type {\n",
       "        vertical-align: middle;\n",
       "    }\n",
       "\n",
       "    .dataframe tbody tr th {\n",
       "        vertical-align: top;\n",
       "    }\n",
       "\n",
       "    .dataframe thead th {\n",
       "        text-align: right;\n",
       "    }\n",
       "</style>\n",
       "<table border=\"1\" class=\"dataframe\">\n",
       "  <thead>\n",
       "    <tr style=\"text-align: right;\">\n",
       "      <th></th>\n",
       "      <th>timepoint</th>\n",
       "      <th>cloudcover</th>\n",
       "      <th>highcloud</th>\n",
       "      <th>midcloud</th>\n",
       "      <th>lowcloud</th>\n",
       "      <th>rh_profile</th>\n",
       "      <th>wind_profile</th>\n",
       "      <th>temp2m</th>\n",
       "      <th>lifted_index</th>\n",
       "      <th>rh2m</th>\n",
       "      <th>msl_pressure</th>\n",
       "      <th>prec_type</th>\n",
       "      <th>prec_amount</th>\n",
       "      <th>snow_depth</th>\n",
       "      <th>wind10m.direction</th>\n",
       "      <th>wind10m.speed</th>\n",
       "      <th>pais</th>\n",
       "      <th>latitud</th>\n",
       "      <th>longitud</th>\n",
       "    </tr>\n",
       "  </thead>\n",
       "  <tbody>\n",
       "    <tr>\n",
       "      <th>0</th>\n",
       "      <td>3</td>\n",
       "      <td>2</td>\n",
       "      <td>-9999</td>\n",
       "      <td>-9999</td>\n",
       "      <td>-9999</td>\n",
       "      <td>[{'layer': '950mb', 'rh': 5}, {'layer': '900mb...</td>\n",
       "      <td>[{'layer': '950mb', 'direction': 315, 'speed':...</td>\n",
       "      <td>27</td>\n",
       "      <td>-1</td>\n",
       "      <td>5</td>\n",
       "      <td>1010</td>\n",
       "      <td>none</td>\n",
       "      <td>1</td>\n",
       "      <td>0</td>\n",
       "      <td>295</td>\n",
       "      <td>2</td>\n",
       "      <td>usa</td>\n",
       "      <td>39.78373</td>\n",
       "      <td>-100.445882</td>\n",
       "    </tr>\n",
       "    <tr>\n",
       "      <th>1</th>\n",
       "      <td>6</td>\n",
       "      <td>3</td>\n",
       "      <td>-9999</td>\n",
       "      <td>-9999</td>\n",
       "      <td>-9999</td>\n",
       "      <td>[{'layer': '950mb', 'rh': 5}, {'layer': '900mb...</td>\n",
       "      <td>[{'layer': '950mb', 'direction': 50, 'speed': ...</td>\n",
       "      <td>26</td>\n",
       "      <td>-1</td>\n",
       "      <td>5</td>\n",
       "      <td>1011</td>\n",
       "      <td>none</td>\n",
       "      <td>1</td>\n",
       "      <td>0</td>\n",
       "      <td>25</td>\n",
       "      <td>2</td>\n",
       "      <td>usa</td>\n",
       "      <td>39.78373</td>\n",
       "      <td>-100.445882</td>\n",
       "    </tr>\n",
       "  </tbody>\n",
       "</table>\n",
       "</div>"
      ],
      "text/plain": [
       "   timepoint  cloudcover  highcloud  midcloud  lowcloud  \\\n",
       "0          3           2      -9999     -9999     -9999   \n",
       "1          6           3      -9999     -9999     -9999   \n",
       "\n",
       "                                          rh_profile  \\\n",
       "0  [{'layer': '950mb', 'rh': 5}, {'layer': '900mb...   \n",
       "1  [{'layer': '950mb', 'rh': 5}, {'layer': '900mb...   \n",
       "\n",
       "                                        wind_profile  temp2m  lifted_index  \\\n",
       "0  [{'layer': '950mb', 'direction': 315, 'speed':...      27            -1   \n",
       "1  [{'layer': '950mb', 'direction': 50, 'speed': ...      26            -1   \n",
       "\n",
       "   rh2m  msl_pressure prec_type  prec_amount  snow_depth wind10m.direction  \\\n",
       "0     5          1010      none            1           0               295   \n",
       "1     5          1011      none            1           0                25   \n",
       "\n",
       "   wind10m.speed pais   latitud    longitud  \n",
       "0              2  usa  39.78373 -100.445882  \n",
       "1              2  usa  39.78373 -100.445882  "
      ]
     },
     "execution_count": 15,
     "metadata": {},
     "output_type": "execute_result"
    }
   ],
   "source": [
    "# Comprobamos por qué número empiezan y acaban los índices\n",
    "df_paises.head(2)"
   ]
  },
  {
   "cell_type": "code",
   "execution_count": 16,
   "metadata": {},
   "outputs": [
    {
     "data": {
      "text/html": [
       "<div>\n",
       "<style scoped>\n",
       "    .dataframe tbody tr th:only-of-type {\n",
       "        vertical-align: middle;\n",
       "    }\n",
       "\n",
       "    .dataframe tbody tr th {\n",
       "        vertical-align: top;\n",
       "    }\n",
       "\n",
       "    .dataframe thead th {\n",
       "        text-align: right;\n",
       "    }\n",
       "</style>\n",
       "<table border=\"1\" class=\"dataframe\">\n",
       "  <thead>\n",
       "    <tr style=\"text-align: right;\">\n",
       "      <th></th>\n",
       "      <th>timepoint</th>\n",
       "      <th>cloudcover</th>\n",
       "      <th>highcloud</th>\n",
       "      <th>midcloud</th>\n",
       "      <th>lowcloud</th>\n",
       "      <th>rh_profile</th>\n",
       "      <th>wind_profile</th>\n",
       "      <th>temp2m</th>\n",
       "      <th>lifted_index</th>\n",
       "      <th>rh2m</th>\n",
       "      <th>msl_pressure</th>\n",
       "      <th>prec_type</th>\n",
       "      <th>prec_amount</th>\n",
       "      <th>snow_depth</th>\n",
       "      <th>wind10m.direction</th>\n",
       "      <th>wind10m.speed</th>\n",
       "      <th>pais</th>\n",
       "      <th>latitud</th>\n",
       "      <th>longitud</th>\n",
       "    </tr>\n",
       "  </thead>\n",
       "  <tbody>\n",
       "    <tr>\n",
       "      <th>318</th>\n",
       "      <td>189</td>\n",
       "      <td>1</td>\n",
       "      <td>-9999</td>\n",
       "      <td>-9999</td>\n",
       "      <td>-9999</td>\n",
       "      <td>[{'layer': '950mb', 'rh': 12}, {'layer': '900m...</td>\n",
       "      <td>[{'layer': '950mb', 'direction': 80, 'speed': ...</td>\n",
       "      <td>26</td>\n",
       "      <td>2</td>\n",
       "      <td>10</td>\n",
       "      <td>1011</td>\n",
       "      <td>none</td>\n",
       "      <td>3</td>\n",
       "      <td>0</td>\n",
       "      <td>80</td>\n",
       "      <td>3</td>\n",
       "      <td>papua new guinea</td>\n",
       "      <td>-5.681607</td>\n",
       "      <td>144.248908</td>\n",
       "    </tr>\n",
       "    <tr>\n",
       "      <th>319</th>\n",
       "      <td>192</td>\n",
       "      <td>1</td>\n",
       "      <td>-9999</td>\n",
       "      <td>-9999</td>\n",
       "      <td>-9999</td>\n",
       "      <td>[{'layer': '950mb', 'rh': 12}, {'layer': '900m...</td>\n",
       "      <td>[{'layer': '950mb', 'direction': 85, 'speed': ...</td>\n",
       "      <td>26</td>\n",
       "      <td>2</td>\n",
       "      <td>10</td>\n",
       "      <td>1009</td>\n",
       "      <td>none</td>\n",
       "      <td>3</td>\n",
       "      <td>0</td>\n",
       "      <td>80</td>\n",
       "      <td>3</td>\n",
       "      <td>papua new guinea</td>\n",
       "      <td>-5.681607</td>\n",
       "      <td>144.248908</td>\n",
       "    </tr>\n",
       "  </tbody>\n",
       "</table>\n",
       "</div>"
      ],
      "text/plain": [
       "     timepoint  cloudcover  highcloud  midcloud  lowcloud  \\\n",
       "318        189           1      -9999     -9999     -9999   \n",
       "319        192           1      -9999     -9999     -9999   \n",
       "\n",
       "                                            rh_profile  \\\n",
       "318  [{'layer': '950mb', 'rh': 12}, {'layer': '900m...   \n",
       "319  [{'layer': '950mb', 'rh': 12}, {'layer': '900m...   \n",
       "\n",
       "                                          wind_profile  temp2m  lifted_index  \\\n",
       "318  [{'layer': '950mb', 'direction': 80, 'speed': ...      26             2   \n",
       "319  [{'layer': '950mb', 'direction': 85, 'speed': ...      26             2   \n",
       "\n",
       "     rh2m  msl_pressure prec_type  prec_amount  snow_depth wind10m.direction  \\\n",
       "318    10          1011      none            3           0                80   \n",
       "319    10          1009      none            3           0                80   \n",
       "\n",
       "     wind10m.speed              pais   latitud    longitud  \n",
       "318              3  papua new guinea -5.681607  144.248908  \n",
       "319              3  papua new guinea -5.681607  144.248908  "
      ]
     },
     "execution_count": 16,
     "metadata": {},
     "output_type": "execute_result"
    }
   ],
   "source": [
    "# Así es como los queremos\n",
    "df_paises.tail(2)"
   ]
  },
  {
   "cell_type": "code",
   "execution_count": 17,
   "metadata": {},
   "outputs": [
    {
     "data": {
      "text/plain": [
       "array(['usa', 'australia', 'south africa', 'new zealand',\n",
       "       'papua new guinea'], dtype=object)"
      ]
     },
     "execution_count": 17,
     "metadata": {},
     "output_type": "execute_result"
    }
   ],
   "source": [
    "# Comprobamos la columna países\n",
    "df_paises['pais'].unique()"
   ]
  },
  {
   "cell_type": "code",
   "execution_count": 18,
   "metadata": {},
   "outputs": [
    {
     "data": {
      "text/plain": [
       "(320, 19)"
      ]
     },
     "execution_count": 18,
     "metadata": {},
     "output_type": "execute_result"
    }
   ],
   "source": [
    "df_paises.shape"
   ]
  },
  {
   "cell_type": "code",
   "execution_count": 19,
   "metadata": {},
   "outputs": [
    {
     "data": {
      "text/plain": [
       "timepoint              int64\n",
       "cloudcover             int64\n",
       "highcloud              int64\n",
       "midcloud               int64\n",
       "lowcloud               int64\n",
       "rh_profile            object\n",
       "wind_profile          object\n",
       "temp2m                 int64\n",
       "lifted_index           int64\n",
       "rh2m                   int64\n",
       "msl_pressure           int64\n",
       "prec_type             object\n",
       "prec_amount            int64\n",
       "snow_depth             int64\n",
       "wind10m.direction     object\n",
       "wind10m.speed          int64\n",
       "pais                  object\n",
       "latitud              float64\n",
       "longitud             float64\n",
       "dtype: object"
      ]
     },
     "execution_count": 19,
     "metadata": {},
     "output_type": "execute_result"
    }
   ],
   "source": [
    "df_paises.dtypes"
   ]
  },
  {
   "cell_type": "code",
   "execution_count": 20,
   "metadata": {},
   "outputs": [],
   "source": [
    "# Vemos que todo está correcto, guardamos en pkl para conservar todos los dtypes\n",
    "df_paises.to_pickle('datos/output/datos_clima_paises.pkl')"
   ]
  }
 ],
 "metadata": {
  "kernelspec": {
   "display_name": "Python 3.9.7 ('base')",
   "language": "python",
   "name": "python3"
  },
  "language_info": {
   "codemirror_mode": {
    "name": "ipython",
    "version": 3
   },
   "file_extension": ".py",
   "mimetype": "text/x-python",
   "name": "python",
   "nbconvert_exporter": "python",
   "pygments_lexer": "ipython3",
   "version": "3.9.7"
  },
  "orig_nbformat": 4,
  "vscode": {
   "interpreter": {
    "hash": "6be5d780ee9b0e6fe20ff9090f4981b24f52f07297829e94136e87c5137905e3"
   }
  }
 },
 "nbformat": 4,
 "nbformat_minor": 2
}
