{
 "cells": [
  {
   "cell_type": "markdown",
   "metadata": {},
   "source": [
    "Igual que en el ejercicio de pair programming de ETL Transformación II, tendréis que crear una clase que nos permita cargar los datos en SQL I."
   ]
  },
  {
   "cell_type": "code",
   "execution_count": 1,
   "metadata": {},
   "outputs": [],
   "source": [
    "import pandas as pd\n",
    "import mysql.connector"
   ]
  },
  {
   "cell_type": "code",
   "execution_count": 2,
   "metadata": {},
   "outputs": [],
   "source": [
    "class Cargar:\n",
    "\n",
    "    def __init__(self, nombre_bbdd, contraseña):\n",
    "         \n",
    "        self.nombre_bbdd = nombre_bbdd\n",
    "        self.contraseña = contraseña\n",
    "\n",
    "    # Llamamos nuestra función para crear la BBDD \n",
    "    def crear_bbdd(self):\n",
    "\n",
    "        mydb = mysql.connector.connect(host=\"localhost\",\n",
    "                                       user=\"root\",\n",
    "                                       password=f'{self.contraseña}') \n",
    "        mycursor = mydb.cursor()\n",
    "        print(\"Conexión realizada con éxito\")\n",
    "\n",
    "        try:\n",
    "            mycursor.execute(f\"CREATE DATABASE IF NOT EXISTS {self.nombre_bbdd};\")\n",
    "            \n",
    "        except:\n",
    "            print(\"La BBDD ya existe\")\n",
    "            \n",
    "    # Llamamos nuestra función para crear tablas e insertar datos en ellas   \n",
    "    def crear_insertar_tabla(self, query):\n",
    "        \n",
    "        mydb = mysql.connector.connect(host=\"localhost\",\n",
    "                                       user=\"root\",\n",
    "                                       password=f'{self.contraseña}', \n",
    "                                       database=f\"{self.nombre_bbdd}\") \n",
    "        mycursor = mydb.cursor()\n",
    "        \n",
    "        try:\n",
    "            mycursor.execute(query)\n",
    "            mydb.commit()\n",
    "          \n",
    "        except mysql.connector.Error as err:\n",
    "            print(err)\n",
    "            print(\"Error Code:\", err.errno)\n",
    "            print(\"SQLSTATE\", err.sqlstate)\n",
    "            print(\"Message\", err.msg)\n"
   ]
  },
  {
   "cell_type": "markdown",
   "metadata": {},
   "source": [
    "### Definición de las variables "
   ]
  },
  {
   "cell_type": "code",
   "execution_count": 3,
   "metadata": {},
   "outputs": [],
   "source": [
    "tabla_attacks = ''' \n",
    "    CREATE TABLE IF NOT EXISTS `attacks` (\n",
    "    `id_attacks` INT NOT NULL AUTO_INCREMENT,\n",
    "    `id_climate` INT NOT NULL,\n",
    "    `year` INT DEFAULT NULL,\n",
    "    `type` VARCHAR(50) DEFAULT NULL, \n",
    "    `country` VARCHAR(50) DEFAULT NULL,  \n",
    "    `age` FLOAT DEFAULT NULL,\n",
    "    `species` VARCHAR(50) DEFAULT NULL,\n",
    "    `date` VARCHAR (10) DEFAULT NULL,\n",
    "    `fatal` CHAR (1) DEFAULT NULL,\n",
    "    `sex` CHAR (1) DEFAULT NULL,\n",
    "    PRIMARY KEY (`id_attacks`),\n",
    "    INDEX `fk_attacks_climate` (`id_climate` ASC),\n",
    "    CONSTRAINT `fk_attacks_climate`\n",
    "    FOREIGN KEY (`id_climate`)\n",
    "    REFERENCES `tiburones`.`climate` (`id_climate`)\n",
    "    )\n",
    "    \n",
    "    ENGINE = InnoDB;\n",
    "    '''"
   ]
  },
  {
   "cell_type": "code",
   "execution_count": 4,
   "metadata": {},
   "outputs": [],
   "source": [
    "tabla_climate = '''\n",
    "       CREATE TABLE IF NOT EXISTS `climate` (\n",
    "       `id_climate` INT NOT NULL AUTO_INCREMENT,\n",
    "       `timepoint` FLOAT DEFAULT NULL, \n",
    "       `cloudcover` FLOAT DEFAULT NULL, \n",
    "       `highcloud` FLOAT DEFAULT NULL, \n",
    "       `midcloud` FLOAT DEFAULT NULL, \n",
    "       `lowcloud` FLOAT DEFAULT NULL,\n",
    "       `temp2m` FLOAT DEFAULT NULL, \n",
    "       `lifted_index` FLOAT DEFAULT NULL, \n",
    "       `rh2m` FLOAT DEFAULT NULL, \n",
    "       `msl_pressure` FLOAT DEFAULT NULL, \n",
    "       `prec_amount` FLOAT DEFAULT NULL,\n",
    "       `snow_depth` FLOAT DEFAULT NULL, \n",
    "       `wind_speed` FLOAT DEFAULT NULL, \n",
    "       `latitud` FLOAT DEFAULT NULL, \n",
    "       `longitud` FLOAT DEFAULT NULL, \n",
    "       `rh_layer_950mb` FLOAT DEFAULT NULL,\n",
    "       `rh_layer_900mb` FLOAT DEFAULT NULL, \n",
    "       `rh_layer_850mb` FLOAT DEFAULT NULL, \n",
    "       `rh_layer_800mb` FLOAT DEFAULT NULL, \n",
    "       `rh_layer_750mb` FLOAT DEFAULT NULL,\n",
    "       `rh_layer_700mb` FLOAT DEFAULT NULL, \n",
    "       `rh_layer_650mb` FLOAT DEFAULT NULL, \n",
    "       `rh_layer_600mb` FLOAT DEFAULT NULL, \n",
    "       `rh_layer_550mb` FLOAT DEFAULT NULL,\n",
    "       `rh_layer_500mb` FLOAT DEFAULT NULL,\n",
    "       `rh_layer_450mb` FLOAT DEFAULT NULL, \n",
    "       `rh_layer_400mb` FLOAT DEFAULT NULL, \n",
    "       `rh_layer_350mb` FLOAT DEFAULT NULL,\n",
    "       `rh_layer_300mb` FLOAT DEFAULT NULL,\n",
    "       `rh_layer_250mb` FLOAT DEFAULT NULL, \n",
    "       `rh_layer_200mb` FLOAT DEFAULT NULL,\n",
    "       `layer950mb_direction` FLOAT DEFAULT NULL, \n",
    "       `layer950mb_speed` FLOAT DEFAULT NULL, \n",
    "       `layer900mb_direction` FLOAT DEFAULT NULL,\n",
    "       `layer900mb_speed` FLOAT DEFAULT NULL, \n",
    "       `layer850mb_direction` FLOAT DEFAULT NULL, \n",
    "       `layer850mb_speed` FLOAT DEFAULT NULL,\n",
    "       `layer800mb_direction` FLOAT DEFAULT NULL, \n",
    "       `layer800mb_speed` FLOAT DEFAULT NULL, \n",
    "       `layer750mb_direction` FLOAT DEFAULT NULL,\n",
    "       `layer750mb_speed` FLOAT DEFAULT NULL, \n",
    "       `layer700mb_direction` FLOAT DEFAULT NULL, \n",
    "       `layer700mb_speed` FLOAT DEFAULT NULL,\n",
    "       `layer650mb_direction` FLOAT DEFAULT NULL, \n",
    "       `layer650mb_speed` FLOAT DEFAULT NULL,\n",
    "       `layer600mb_direction` FLOAT DEFAULT NULL,\n",
    "       `layer600mb_speed` FLOAT DEFAULT NULL,\n",
    "       `layer550mb_direction` FLOAT DEFAULT NULL, \n",
    "       `layer550mb_speed` FLOAT DEFAULT NULL,\n",
    "       `layer500mb_direction` FLOAT DEFAULT NULL,\n",
    "       `layer500mb_speed` FLOAT DEFAULT NULL, \n",
    "       `layer450mb_direction` FLOAT DEFAULT NULL,\n",
    "       `layer450mb_speed` FLOAT DEFAULT NULL,\n",
    "       `layer400mb_direction` FLOAT DEFAULT NULL,\n",
    "       `layer400mb_speed` FLOAT DEFAULT NULL,\n",
    "       `layer350mb_direction` FLOAT DEFAULT NULL,\n",
    "       `layer350mb_speed` FLOAT DEFAULT NULL,\n",
    "       `layer300mb_direction` FLOAT DEFAULT NULL,\n",
    "       `layer300mb_speed` FLOAT DEFAULT NULL,\n",
    "       `layer250mb_direction` FLOAT DEFAULT NULL,\n",
    "       `layer250mb_speed` FLOAT DEFAULT NULL,\n",
    "       `layer200mb_direction` FLOAT DEFAULT NULL,\n",
    "       `layer200mb_speed` FLOAT DEFAULT NULL,\n",
    "       PRIMARY KEY (`id_climate`))\n",
    "    \n",
    "    ENGINE = InnoDB;\n",
    "       '''"
   ]
  },
  {
   "cell_type": "code",
   "execution_count": 5,
   "metadata": {},
   "outputs": [],
   "source": [
    "carga = Cargar (\"tiburones\", \"AlumnaAdalab\")"
   ]
  },
  {
   "cell_type": "code",
   "execution_count": 7,
   "metadata": {},
   "outputs": [
    {
     "name": "stdout",
     "output_type": "stream",
     "text": [
      "Conexión realizada con éxito\n"
     ]
    }
   ],
   "source": [
    "carga.crear_bbdd()"
   ]
  },
  {
   "cell_type": "code",
   "execution_count": 9,
   "metadata": {},
   "outputs": [],
   "source": [
    "carga.crear_insertar_tabla(tabla_attacks)"
   ]
  },
  {
   "cell_type": "code",
   "execution_count": 10,
   "metadata": {},
   "outputs": [],
   "source": [
    "carga.crear_insertar_tabla(tabla_climate)"
   ]
  }
 ],
 "metadata": {
  "kernelspec": {
   "display_name": "Python 3.10.5 64-bit",
   "language": "python",
   "name": "python3"
  },
  "language_info": {
   "codemirror_mode": {
    "name": "ipython",
    "version": 3
   },
   "file_extension": ".py",
   "mimetype": "text/x-python",
   "name": "python",
   "nbconvert_exporter": "python",
   "pygments_lexer": "ipython3",
   "version": "3.10.5"
  },
  "orig_nbformat": 4,
  "vscode": {
   "interpreter": {
    "hash": "6c417e8ec6dca726918e9382ccd5f9a276f75c00fe45ac2c66804bdd5db60888"
   }
  }
 },
 "nbformat": 4,
 "nbformat_minor": 2
}
