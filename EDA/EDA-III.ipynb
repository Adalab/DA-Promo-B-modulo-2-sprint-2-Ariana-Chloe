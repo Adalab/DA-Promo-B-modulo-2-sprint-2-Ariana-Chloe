{
 "cells": [
  {
   "cell_type": "markdown",
   "metadata": {},
   "source": [
    "Es el momento de hacer una buena exploración visual de los datos para entender un poquito mejor el dataset. Para ello trabajaremos con la librería matplotlib y seaborn.\n",
    "\n",
    "##### Hipótesis\n",
    "Antes de seguir, recordamos las preguntas que nos planteamos al principio del pair programming de EDA para dirigir nuestro análisis.\n",
    "\n",
    "¿Es Australia es el sitio más peligroso y letal para estar relajada en la playa?\n",
    "\n",
    "¿Hay diferencias entre los paises en los ataques a hombres y mujeres?\n",
    "\n",
    "¿Cuáles son las edades que más sufren ataques?\n",
    "\n",
    "Independientemente de la edad, sufren los hombres más ataques que las mujeres?\n",
    "\n",
    "¿En qué mes ocurren más ataques?\n",
    "\n",
    "¿Cuál es la relación entre la especie y el tipo de ataque (si es fatal o no)?\n",
    "\n",
    "¿Cómo han evolucionado los ataques a lo largo del tiempo?\n",
    "\n",
    "De todo esto, nos damos cuenta que solo tenemos que limpiar algunas de las columnas, en concreto age, species, country, fatal, year, sex. Reducimos esto a una tabla para saber qué tenemos ya limpito y qué no. Actualizamos esta tabla ya que en el ejercicio de pair de Limpieza I y II ya dejamos algunas columnas limpitas:\n",
    "variable\n",
    "¿Está limpia?\n",
    "\n",
    "age\n",
    "✔️ la limpiamos en el pair de Limpieza II\n",
    "\n",
    "species\n",
    "✔️ la limpiamos en el pair de Limpieza II\n",
    "\n",
    "country\n",
    "✔️ la limpiamos en el pair de Limpieza II\n",
    "\n",
    "fatal\n",
    "✔️ la limpiamos en el pair de Pandas V\n",
    "\n",
    "year\n",
    "✔️ es una columna de tipo float deberíamos convertirla a integer\n",
    "\n",
    "sex\n",
    "✔️ la limpiamos en el pair de Pandas V\n",
    "\n",
    "fecha\n",
    "✔️ la limpiamos en el pair de Pandas V\n"
   ]
  },
  {
   "cell_type": "markdown",
   "metadata": {},
   "source": [
    "##### Objetivos\n",
    "En el ejercicio de hoy tendremos que contestar a las siguientes preguntas:\n",
    "\n",
    "📌 Nota Como siempre, después de cada gráfica incluid una pequeña explicación de lo que nos está mostrando la gráfica.\n",
    "\n",
    "1. Estableced el tamaño de las figuras al inicio de vuestro jupyter para que todas tengan las mismas dimensiones.\n"
   ]
  },
  {
   "cell_type": "code",
   "execution_count": 1,
   "metadata": {},
   "outputs": [],
   "source": [
    "import pandas as pd\n",
    "import matplotlib.pyplot as plt\n",
    "import seaborn as sns\n",
    "import sidetable\n",
    "\n",
    "pd.options.display.max_rows=None\n",
    "plt.rcParams['figure.figsize']= (15,12)"
   ]
  },
  {
   "cell_type": "markdown",
   "metadata": {},
   "source": [
    "2. Manos a la obra con los plots, estos irán muy dirigidos hacia las preguntas que queremos contestar, para hacer una primera aproximación a nuestras hipótesis:\n",
    "* ¿Cuántos ataques hubo por pais? ¿Se puede ver algo claro si ploteamos todos los paises? En caso de que no, seleccionad solo los 10 paises con más ataques y volved a hacer el plot.\n"
   ]
  },
  {
   "cell_type": "code",
   "execution_count": 2,
   "metadata": {},
   "outputs": [
    {
     "data": {
      "text/html": [
       "<div>\n",
       "<style scoped>\n",
       "    .dataframe tbody tr th:only-of-type {\n",
       "        vertical-align: middle;\n",
       "    }\n",
       "\n",
       "    .dataframe tbody tr th {\n",
       "        vertical-align: top;\n",
       "    }\n",
       "\n",
       "    .dataframe thead th {\n",
       "        text-align: right;\n",
       "    }\n",
       "</style>\n",
       "<table border=\"1\" class=\"dataframe\">\n",
       "  <thead>\n",
       "    <tr style=\"text-align: right;\">\n",
       "      <th></th>\n",
       "      <th>case_number</th>\n",
       "      <th>year</th>\n",
       "      <th>type</th>\n",
       "      <th>country</th>\n",
       "      <th>area</th>\n",
       "      <th>location</th>\n",
       "      <th>activity</th>\n",
       "      <th>age</th>\n",
       "      <th>species_</th>\n",
       "      <th>date</th>\n",
       "      <th>month</th>\n",
       "      <th>fatal_y/n</th>\n",
       "      <th>sex_m_f</th>\n",
       "    </tr>\n",
       "  </thead>\n",
       "  <tbody>\n",
       "    <tr>\n",
       "      <th>0</th>\n",
       "      <td>2018.06.25</td>\n",
       "      <td>2018</td>\n",
       "      <td>Boating</td>\n",
       "      <td>usa</td>\n",
       "      <td>California</td>\n",
       "      <td>Oceanside, San Diego County</td>\n",
       "      <td>Paddling</td>\n",
       "      <td>57.0</td>\n",
       "      <td>white shark</td>\n",
       "      <td>25-Jun-2018</td>\n",
       "      <td>Jun</td>\n",
       "      <td>N</td>\n",
       "      <td>F</td>\n",
       "    </tr>\n",
       "  </tbody>\n",
       "</table>\n",
       "</div>"
      ],
      "text/plain": [
       "  case_number  year     type country        area                     location  \\\n",
       "0  2018.06.25  2018  Boating     usa  California  Oceanside, San Diego County   \n",
       "\n",
       "   activity   age     species_         date month fatal_y/n sex_m_f  \n",
       "0  Paddling  57.0  white shark  25-Jun-2018   Jun         N       F  "
      ]
     },
     "execution_count": 2,
     "metadata": {},
     "output_type": "execute_result"
    }
   ],
   "source": [
    "df= pd.read_csv('datos/attacks_limpieza_2.csv', index_col = 0)\n",
    "df.head(1)"
   ]
  },
  {
   "cell_type": "code",
   "execution_count": 3,
   "metadata": {},
   "outputs": [
    {
     "data": {
      "text/plain": [
       "case_number      0\n",
       "year             0\n",
       "type             0\n",
       "country         10\n",
       "area            46\n",
       "location        51\n",
       "activity        31\n",
       "age            158\n",
       "species_         0\n",
       "date             0\n",
       "month          181\n",
       "fatal_y/n       99\n",
       "sex_m_f          0\n",
       "dtype: int64"
      ]
     },
     "execution_count": 3,
     "metadata": {},
     "output_type": "execute_result"
    }
   ],
   "source": [
    "# ¿Tenemos nulos?\n",
    "df.isnull().sum()"
   ]
  },
  {
   "cell_type": "code",
   "execution_count": 4,
   "metadata": {},
   "outputs": [
    {
     "data": {
      "image/png": "[encoded data removed]",
      "text/plain": [
       "<Figure size 1080x864 with 1 Axes>"
      ]
     },
     "metadata": {
      "needs_background": "light"
     },
     "output_type": "display_data"
    }
   ],
   "source": [
    "# En country no hay nulos\n",
    "sns.countplot(x= 'country', data = df);"
   ]
  },
  {
   "cell_type": "code",
   "execution_count": 5,
   "metadata": {},
   "outputs": [
    {
     "data": {
      "text/html": [
       "<div>\n",
       "<style scoped>\n",
       "    .dataframe tbody tr th:only-of-type {\n",
       "        vertical-align: middle;\n",
       "    }\n",
       "\n",
       "    .dataframe tbody tr th {\n",
       "        vertical-align: top;\n",
       "    }\n",
       "\n",
       "    .dataframe thead th {\n",
       "        text-align: right;\n",
       "    }\n",
       "</style>\n",
       "<table border=\"1\" class=\"dataframe\">\n",
       "  <thead>\n",
       "    <tr style=\"text-align: right;\">\n",
       "      <th></th>\n",
       "      <th>country</th>\n",
       "      <th>count</th>\n",
       "      <th>percent</th>\n",
       "      <th>cumulative_count</th>\n",
       "      <th>cumulative_percent</th>\n",
       "    </tr>\n",
       "  </thead>\n",
       "  <tbody>\n",
       "    <tr>\n",
       "      <th>0</th>\n",
       "      <td>usa</td>\n",
       "      <td>741</td>\n",
       "      <td>44.584838</td>\n",
       "      <td>741</td>\n",
       "      <td>44.584838</td>\n",
       "    </tr>\n",
       "    <tr>\n",
       "      <th>1</th>\n",
       "      <td>australia</td>\n",
       "      <td>343</td>\n",
       "      <td>20.637786</td>\n",
       "      <td>1084</td>\n",
       "      <td>65.222623</td>\n",
       "    </tr>\n",
       "    <tr>\n",
       "      <th>2</th>\n",
       "      <td>south africa</td>\n",
       "      <td>234</td>\n",
       "      <td>14.079422</td>\n",
       "      <td>1318</td>\n",
       "      <td>79.302046</td>\n",
       "    </tr>\n",
       "    <tr>\n",
       "      <th>3</th>\n",
       "      <td>bahamas</td>\n",
       "      <td>29</td>\n",
       "      <td>1.744886</td>\n",
       "      <td>1347</td>\n",
       "      <td>81.046931</td>\n",
       "    </tr>\n",
       "    <tr>\n",
       "      <th>4</th>\n",
       "      <td>new zealand</td>\n",
       "      <td>21</td>\n",
       "      <td>1.263538</td>\n",
       "      <td>1368</td>\n",
       "      <td>82.310469</td>\n",
       "    </tr>\n",
       "    <tr>\n",
       "      <th>5</th>\n",
       "      <td>reunion</td>\n",
       "      <td>17</td>\n",
       "      <td>1.022864</td>\n",
       "      <td>1385</td>\n",
       "      <td>83.333333</td>\n",
       "    </tr>\n",
       "    <tr>\n",
       "      <th>6</th>\n",
       "      <td>papua new guinea</td>\n",
       "      <td>16</td>\n",
       "      <td>0.962696</td>\n",
       "      <td>1401</td>\n",
       "      <td>84.296029</td>\n",
       "    </tr>\n",
       "    <tr>\n",
       "      <th>7</th>\n",
       "      <td>brazil</td>\n",
       "      <td>16</td>\n",
       "      <td>0.962696</td>\n",
       "      <td>1417</td>\n",
       "      <td>85.258724</td>\n",
       "    </tr>\n",
       "    <tr>\n",
       "      <th>8</th>\n",
       "      <td>mexico</td>\n",
       "      <td>15</td>\n",
       "      <td>0.902527</td>\n",
       "      <td>1432</td>\n",
       "      <td>86.161252</td>\n",
       "    </tr>\n",
       "    <tr>\n",
       "      <th>9</th>\n",
       "      <td>italy</td>\n",
       "      <td>11</td>\n",
       "      <td>0.661853</td>\n",
       "      <td>1443</td>\n",
       "      <td>86.823105</td>\n",
       "    </tr>\n",
       "    <tr>\n",
       "      <th>10</th>\n",
       "      <td>others</td>\n",
       "      <td>219</td>\n",
       "      <td>13.176895</td>\n",
       "      <td>1662</td>\n",
       "      <td>100.000000</td>\n",
       "    </tr>\n",
       "  </tbody>\n",
       "</table>\n",
       "</div>"
      ],
      "text/plain": [
       "             country  count    percent  cumulative_count  cumulative_percent\n",
       "0                usa    741  44.584838               741           44.584838\n",
       "1          australia    343  20.637786              1084           65.222623\n",
       "2       south africa    234  14.079422              1318           79.302046\n",
       "3            bahamas     29   1.744886              1347           81.046931\n",
       "4        new zealand     21   1.263538              1368           82.310469\n",
       "5            reunion     17   1.022864              1385           83.333333\n",
       "6   papua new guinea     16   0.962696              1401           84.296029\n",
       "7             brazil     16   0.962696              1417           85.258724\n",
       "8             mexico     15   0.902527              1432           86.161252\n",
       "9              italy     11   0.661853              1443           86.823105\n",
       "10            others    219  13.176895              1662          100.000000"
      ]
     },
     "execution_count": 5,
     "metadata": {},
     "output_type": "execute_result"
    }
   ],
   "source": [
    "# No es fácil ver la información\n",
    "#  Filtramos por los 10 países con más ataques\n",
    "df10max = df.stb.freq(['country'], thresh = 87)\n",
    "df10max"
   ]
  },
  {
   "cell_type": "code",
   "execution_count": 6,
   "metadata": {},
   "outputs": [
    {
     "data": {
      "image/png": "[encoded data removed]",
      "text/plain": [
       "<Figure size 1080x864 with 1 Axes>"
      ]
     },
     "metadata": {
      "needs_background": "light"
     },
     "output_type": "display_data"
    }
   ],
   "source": [
    "# Repetimos gráfica, ahora tiene que ser un barplot\n",
    "\n",
    "sns.barplot(x='country', y='count', data=df10max);"
   ]
  },
  {
   "cell_type": "markdown",
   "metadata": {},
   "source": [
    "> Vemos que los tres países en los que hay más ataques reportados son USA, Australia y South África, siendo en USA donde claramente hay más casos reportados"
   ]
  },
  {
   "cell_type": "markdown",
   "metadata": {},
   "source": [
    "* Usando el DataFrame de los 10 paises con más ataques, ¿hay diferencias entre sexos en esos paises?\n"
   ]
  },
  {
   "cell_type": "code",
   "execution_count": 7,
   "metadata": {},
   "outputs": [
    {
     "data": {
      "text/plain": [
       "array(['usa', 'australia', 'south africa', 'bahamas', 'new zealand',\n",
       "       'reunion', 'papua new guinea', 'brazil', 'mexico', 'italy',\n",
       "       'others'], dtype=object)"
      ]
     },
     "execution_count": 7,
     "metadata": {},
     "output_type": "execute_result"
    }
   ],
   "source": [
    "# Volvemos a filtrar el dataframe, esta vez utilizaremos los nombres de los 10 más frecuentes obtenidos en df10max\n",
    "df10max['country'].values"
   ]
  },
  {
   "cell_type": "code",
   "execution_count": 8,
   "metadata": {},
   "outputs": [
    {
     "data": {
      "text/plain": [
       "'others'"
      ]
     },
     "execution_count": 8,
     "metadata": {},
     "output_type": "execute_result"
    }
   ],
   "source": [
    "# Tenemos que retirar el 'others'\n",
    "lista_paises = list(df10max['country'].values)\n",
    "lista_paises.pop()"
   ]
  },
  {
   "cell_type": "code",
   "execution_count": 9,
   "metadata": {},
   "outputs": [
    {
     "name": "stdout",
     "output_type": "stream",
     "text": [
      "['usa', 'australia', 'south africa', 'bahamas', 'new zealand', 'reunion', 'papua new guinea', 'brazil', 'mexico', 'italy']\n"
     ]
    }
   ],
   "source": [
    "print(lista_paises)"
   ]
  },
  {
   "cell_type": "code",
   "execution_count": 10,
   "metadata": {},
   "outputs": [
    {
     "data": {
      "text/plain": [
       "array(['usa', 'brazil', 'australia', 'south africa', 'bahamas',\n",
       "       'new zealand', 'reunion', 'mexico', 'italy', 'papua new guinea'],\n",
       "      dtype=object)"
      ]
     },
     "execution_count": 10,
     "metadata": {},
     "output_type": "execute_result"
    }
   ],
   "source": [
    "df10 = df[df['country'].isin(lista_paises)]\n",
    "# Comprobamos\n",
    "df10['country'].unique()"
   ]
  },
  {
   "cell_type": "code",
   "execution_count": 11,
   "metadata": {},
   "outputs": [
    {
     "data": {
      "text/html": [
       "<div>\n",
       "<style scoped>\n",
       "    .dataframe tbody tr th:only-of-type {\n",
       "        vertical-align: middle;\n",
       "    }\n",
       "\n",
       "    .dataframe tbody tr th {\n",
       "        vertical-align: top;\n",
       "    }\n",
       "\n",
       "    .dataframe thead th {\n",
       "        text-align: right;\n",
       "    }\n",
       "</style>\n",
       "<table border=\"1\" class=\"dataframe\">\n",
       "  <thead>\n",
       "    <tr style=\"text-align: right;\">\n",
       "      <th></th>\n",
       "      <th>case_number</th>\n",
       "      <th>year</th>\n",
       "      <th>type</th>\n",
       "      <th>country</th>\n",
       "      <th>area</th>\n",
       "      <th>location</th>\n",
       "      <th>activity</th>\n",
       "      <th>age</th>\n",
       "      <th>species_</th>\n",
       "      <th>date</th>\n",
       "      <th>month</th>\n",
       "      <th>fatal_y/n</th>\n",
       "      <th>sex_m_f</th>\n",
       "    </tr>\n",
       "  </thead>\n",
       "  <tbody>\n",
       "    <tr>\n",
       "      <th>0</th>\n",
       "      <td>2018.06.25</td>\n",
       "      <td>2018</td>\n",
       "      <td>Boating</td>\n",
       "      <td>usa</td>\n",
       "      <td>California</td>\n",
       "      <td>Oceanside, San Diego County</td>\n",
       "      <td>Paddling</td>\n",
       "      <td>57.0</td>\n",
       "      <td>white shark</td>\n",
       "      <td>25-Jun-2018</td>\n",
       "      <td>Jun</td>\n",
       "      <td>N</td>\n",
       "      <td>F</td>\n",
       "    </tr>\n",
       "  </tbody>\n",
       "</table>\n",
       "</div>"
      ],
      "text/plain": [
       "  case_number  year     type country        area                     location  \\\n",
       "0  2018.06.25  2018  Boating     usa  California  Oceanside, San Diego County   \n",
       "\n",
       "   activity   age     species_         date month fatal_y/n sex_m_f  \n",
       "0  Paddling  57.0  white shark  25-Jun-2018   Jun         N       F  "
      ]
     },
     "execution_count": 11,
     "metadata": {},
     "output_type": "execute_result"
    }
   ],
   "source": [
    "df10.head(1)"
   ]
  },
  {
   "cell_type": "code",
   "execution_count": 12,
   "metadata": {},
   "outputs": [
    {
     "data": {
      "image/png": "[encoded data removed]",
      "text/plain": [
       "<Figure size 1080x864 with 1 Axes>"
      ]
     },
     "metadata": {
      "needs_background": "light"
     },
     "output_type": "display_data"
    }
   ],
   "source": [
    "sns.countplot(x='country', data= df10, hue= 'sex_m_f')\n",
    "plt.title('Cantidad de ataques de tiburón por país y sexo');"
   ]
  },
  {
   "cell_type": "markdown",
   "metadata": {},
   "source": [
    "> Vemos que sí hay mucho contraste entre el numero de casos entre hombres y mujeres."
   ]
  },
  {
   "cell_type": "markdown",
   "metadata": {},
   "source": [
    "* ¿Qué edad recibe mayor número de ataques? 💡 Pista 💡 Para que esta gráfica nos salga legible tendremos que crear antes grupos de edad. Para hacer esto de una forma sencilla tenemos el método pd.cut() que aprendimos en la lección de Limpieza II.\n"
   ]
  },
  {
   "cell_type": "code",
   "execution_count": 13,
   "metadata": {},
   "outputs": [
    {
     "data": {
      "text/plain": [
       "array([57., 18., 15., 32., 60., 33., 19., 25., 10., 69., 55., 35., 20.,\n",
       "       54., 31., 40., 37., 13., 34., 50., 46., 48., 17., 28., 65., 73.,\n",
       "       58., 36., 51., 21., 61., 59., 42.,  6., 27., 29., 22., 23., 39.,\n",
       "       12., 11., 71., 43.,  9., 44., 14., 62., 52., 38., 68., 16., 47.,\n",
       "       63., 26., 70., 41., 53.,  7., 66., 30., 24., 45., 74., 64.,  8.,\n",
       "       56., 49., nan, 77., 84.,  5., 67.])"
      ]
     },
     "execution_count": 13,
     "metadata": {},
     "output_type": "execute_result"
    }
   ],
   "source": [
    "df10.age.unique()"
   ]
  },
  {
   "cell_type": "code",
   "execution_count": 14,
   "metadata": {},
   "outputs": [
    {
     "name": "stderr",
     "output_type": "stream",
     "text": [
      "/tmp/ipykernel_1432/4074257242.py:2: SettingWithCopyWarning: \n",
      "A value is trying to be set on a copy of a slice from a DataFrame.\n",
      "Try using .loc[row_indexer,col_indexer] = value instead\n",
      "\n",
      "See the caveats in the documentation: https://pandas.pydata.org/pandas-docs/stable/user_guide/indexing.html#returning-a-view-versus-a-copy\n",
      "  df10['intervalos_age'] = pd.cut(df10.age, bins= [0,10,20,30,40,50,60,70,80,90])\n"
     ]
    }
   ],
   "source": [
    "# Añadimos una columna con los intervalos\n",
    "df10['intervalos_age'] = pd.cut(df10.age, bins= [0,10,20,30,40,50,60,70,80,90])"
   ]
  },
  {
   "cell_type": "code",
   "execution_count": 15,
   "metadata": {},
   "outputs": [
    {
     "data": {
      "text/plain": [
       "[(50.0, 60.0], (10.0, 20.0], (30.0, 40.0], (20.0, 30.0], (0.0, 10.0], (60.0, 70.0], (40.0, 50.0], (70.0, 80.0], NaN, (80.0, 90.0]]\n",
       "Categories (9, interval[int64, right]): [(0, 10] < (10, 20] < (20, 30] < (30, 40] ... (50, 60] < (60, 70] < (70, 80] < (80, 90]]"
      ]
     },
     "execution_count": 15,
     "metadata": {},
     "output_type": "execute_result"
    }
   ],
   "source": [
    "df10['intervalos_age'].unique()"
   ]
  },
  {
   "cell_type": "code",
   "execution_count": 16,
   "metadata": {},
   "outputs": [
    {
     "data": {
      "image/png": "[encoded data removed]",
      "text/plain": [
       "<Figure size 1080x864 with 1 Axes>"
      ]
     },
     "metadata": {
      "needs_background": "light"
     },
     "output_type": "display_data"
    }
   ],
   "source": [
    "sns.countplot(x=df10['intervalos_age'])\n",
    "plt.title('Cantidad de ataques de tiburón en cada rango de edad');"
   ]
  },
  {
   "cell_type": "markdown",
   "metadata": {},
   "source": [
    ">* La mayor parte de los casos registrados son de personas muy jóvenes.\n",
    ">\n",
    ">* Los rangos de edad más afectados son de 10 a 20 años y de 20 a 30 años."
   ]
  },
  {
   "cell_type": "markdown",
   "metadata": {},
   "source": [
    "* Ataques entre sexos, ¿hay diferencia?\n"
   ]
  },
  {
   "cell_type": "code",
   "execution_count": 17,
   "metadata": {},
   "outputs": [
    {
     "data": {
      "image/png": "[encoded data removed]",
      "text/plain": [
       "<Figure size 1080x864 with 1 Axes>"
      ]
     },
     "metadata": {
      "needs_background": "light"
     },
     "output_type": "display_data"
    }
   ],
   "source": [
    "sns.countplot(x=df10['sex_m_f'])\n",
    "plt.title('Cantidad de ataques de tiburón por sexo');"
   ]
  },
  {
   "cell_type": "markdown",
   "metadata": {},
   "source": [
    "> Con diferencia los hombres sufren y reportan muchos más ataques de tiburones que las mujeres"
   ]
  },
  {
   "cell_type": "markdown",
   "metadata": {},
   "source": [
    "* ¿Cuando ocurren más ataques? ¿Os sale algo raro en la gráfica? Intentad limpiar un poco los datos para que os salga mejor."
   ]
  },
  {
   "cell_type": "code",
   "execution_count": 18,
   "metadata": {},
   "outputs": [],
   "source": [
    "# Como vimos en el primer análisis exploratorio, nuestra columna 'year' tiene la mayoría de casos en el año 0\n",
    "# Vamos a filtar nuestros datos para que nos muestren los ataques a partir del año 1900"
   ]
  },
  {
   "cell_type": "code",
   "execution_count": 19,
   "metadata": {},
   "outputs": [
    {
     "data": {
      "text/plain": [
       "2015    63\n",
       "2012    54\n",
       "2007    52\n",
       "2002    51\n",
       "2003    43\n",
       "2013    43\n",
       "2005    42\n",
       "2006    38\n",
       "2004    38\n",
       "2008    37\n",
       "2009    35\n",
       "2014    34\n",
       "2016    31\n",
       "2011    31\n",
       "2000    30\n",
       "2001    29\n",
       "2017    27\n",
       "2010    26\n",
       "1999    24\n",
       "1992    22\n",
       "1961    22\n",
       "1998    21\n",
       "1962    21\n",
       "1996    20\n",
       "1995    20\n",
       "1966    19\n",
       "1993    19\n",
       "1989    18\n",
       "1963    18\n",
       "1997    18\n",
       "1991    16\n",
       "1994    16\n",
       "1964    15\n",
       "1959    15\n",
       "1960    14\n",
       "2018    14\n",
       "1984    14\n",
       "1986    14\n",
       "1988    14\n",
       "1982    13\n",
       "1981    13\n",
       "1983    13\n",
       "1985    13\n",
       "1990    13\n",
       "1958    12\n",
       "1975    12\n",
       "1980    11\n",
       "1987    11\n",
       "1967    11\n",
       "1974    10\n",
       "1968     9\n",
       "1965     8\n",
       "1971     8\n",
       "1976     8\n",
       "1957     7\n",
       "1969     5\n",
       "1937     5\n",
       "1947     5\n",
       "1951     5\n",
       "1942     5\n",
       "1977     5\n",
       "1979     4\n",
       "1956     4\n",
       "1955     4\n",
       "1922     4\n",
       "1936     4\n",
       "1972     4\n",
       "1950     4\n",
       "1949     4\n",
       "1940     4\n",
       "1934     4\n",
       "1929     3\n",
       "1978     3\n",
       "1946     3\n",
       "1927     3\n",
       "1973     3\n",
       "1926     3\n",
       "1953     3\n",
       "1935     3\n",
       "1928     2\n",
       "1930     2\n",
       "1931     2\n",
       "1932     2\n",
       "1925     2\n",
       "1938     2\n",
       "1939     2\n",
       "1941     2\n",
       "1952     2\n",
       "1954     2\n",
       "1970     1\n",
       "1943     1\n",
       "1944     1\n",
       "1945     1\n",
       "1948     1\n",
       "1924     1\n",
       "1919     1\n",
       "1916     1\n",
       "1912     1\n",
       "1906     1\n",
       "1905     1\n",
       "1901     1\n",
       "Name: year, dtype: int64"
      ]
     },
     "execution_count": 19,
     "metadata": {},
     "output_type": "execute_result"
    }
   ],
   "source": [
    "dfyear = df10[df10['year']>=1900]\n",
    "dfyear['year'].value_counts()"
   ]
  },
  {
   "cell_type": "code",
   "execution_count": 20,
   "metadata": {},
   "outputs": [
    {
     "data": {
      "image/png": "[encoded data removed]",
      "text/plain": [
       "<Figure size 1080x864 with 1 Axes>"
      ]
     },
     "metadata": {
      "needs_background": "light"
     },
     "output_type": "display_data"
    }
   ],
   "source": [
    "# Con este filtrado hacemos una gráfica de los ataques por año y por mes desde el 1900 hasta el 2018\n",
    "# Utilizamos el value_counts para graficarlo\n",
    "sns.lineplot(x=dfyear['year'].value_counts().index , y = dfyear['year'].value_counts().values)\n",
    "plt.title('Numero de casos de ataques de tiburón desde 1900 hasta el 2018');"
   ]
  },
  {
   "cell_type": "markdown",
   "metadata": {},
   "source": [
    "> Cabe destacar que hay más casos reportados en la primera y segunda década de los años 2000"
   ]
  },
  {
   "cell_type": "code",
   "execution_count": 21,
   "metadata": {},
   "outputs": [
    {
     "data": {
      "image/png": "[encoded data removed]",
      "text/plain": [
       "<Figure size 1080x864 with 1 Axes>"
      ]
     },
     "metadata": {
      "needs_background": "light"
     },
     "output_type": "display_data"
    }
   ],
   "source": [
    "sns.countplot(x=dfyear['month'])\n",
    "plt.title('Cantidad de ataques de tiburón por mes');"
   ]
  },
  {
   "cell_type": "markdown",
   "metadata": {},
   "source": [
    "> * Los meses de verano son los más frecuentes para que ocurran ataques de tiburón\n",
    "> * Sin embargo, el número de ataques está bastante repartido a lo largo del año\n",
    "> * Además, de entre los meses de invierno en el hemisferio norte, destaca el mes de Enero. Pensamos que esto puede ser porque los lugares en los que ocurren los ataques puedan tener un clima parecido a lo largo de todo el año."
   ]
  }
 ],
 "metadata": {
  "kernelspec": {
   "display_name": "Python 3.9.7 ('base')",
   "language": "python",
   "name": "python3"
  },
  "language_info": {
   "codemirror_mode": {
    "name": "ipython",
    "version": 3
   },
   "file_extension": ".py",
   "mimetype": "text/x-python",
   "name": "python",
   "nbconvert_exporter": "python",
   "pygments_lexer": "ipython3",
   "version": "3.9.7"
  },
  "orig_nbformat": 4,
  "vscode": {
   "interpreter": {
    "hash": "6be5d780ee9b0e6fe20ff9090f4981b24f52f07297829e94136e87c5137905e3"
   }
  }
 },
 "nbformat": 4,
 "nbformat_minor": 2
}
