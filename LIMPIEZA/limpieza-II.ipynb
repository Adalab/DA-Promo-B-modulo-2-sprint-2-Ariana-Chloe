{
 "cells": [
  {
   "cell_type": "markdown",
   "metadata": {},
   "source": [
    "Por lo tanto, en este ejercicio nos queda por limpiar las columnas de age y species, así que manos a la obra. Vamos a ver que podemos hacer para cada una de las columnas y os dejaremos algunas pistas 😉.\n",
    "\n",
    "1. Columna de species: si exploramos esta columna en detalle nos podemos dar cuenta que tenemos muchos valores únicos y esto hace que sea muy difícil trabajar con esta columna. Lo que vamos a hacer es clasificar los tiburones en 5 especies diferentes, las más comunes, que incluyen el tiburón blanco (White), el tiburón tigre (Tiger ), el tiburón gris (Grey), el tiburón limón (Lemon) y el tiburón toro (Bull). El resto de las especies las incluiremos en un único grupo que podremos llamar \"Unspecified\". Ahora nos podemos sentir un poco abrumadas y no saber como enfrentarnos a este reto, pero don't worry, os dejamos por aquí unas 💡 pistas 💡 para que os ayuden a entender cómo hacerlo.\n"
   ]
  },
  {
   "cell_type": "markdown",
   "metadata": {},
   "source": [
    "* Los valores de las columnas son strings por lo que podremos usar regex para buscar palabras clave en cada celda y asignarlo a una de las categorías que hemos definido previamente.\n",
    "```python\n",
    "# imaginemos que el valor de una celda es el siguiente\n",
    "​\n",
    "'White shark, 3.5 m'\n",
    "​\n",
    "# tendremos que buscar el patrón de regex que nos permita extraer White shark de ese string y que nos devuelva solo White shark. \n",
    "# Un patrón que podriamos usar es: \n",
    "​\n",
    "patron_blanco = r\".*[Ww](hite|HITE).*\" # esto podría ser así porque puede estar en mayúsculas o en minúsculas. \n",
    "​\n",
    "# de la misma forma que hemos sacado el patron para el tiburón blanco, tendremos que sacar los patrones para las otras 4 especies que queremos \"encontrar\". \n",
    "```\n"
   ]
  },
  {
   "cell_type": "markdown",
   "metadata": {},
   "source": [
    "\n",
    "* Tendremos que crearnos una función que aplicaremos sobre nuestra columna species_ para que nos devuelva una nueva columna con los valores clasificados en función de los patrones de regex que hayamos definido.\n"
   ]
  },
  {
   "cell_type": "code",
   "execution_count": 1,
   "metadata": {},
   "outputs": [],
   "source": [
    "import pandas as pd\n",
    "import numpy as np\n",
    "import sidetable\n",
    "import re"
   ]
  },
  {
   "cell_type": "code",
   "execution_count": 4,
   "metadata": {},
   "outputs": [
    {
     "data": {
      "text/html": [
       "<div>\n",
       "<style scoped>\n",
       "    .dataframe tbody tr th:only-of-type {\n",
       "        vertical-align: middle;\n",
       "    }\n",
       "\n",
       "    .dataframe tbody tr th {\n",
       "        vertical-align: top;\n",
       "    }\n",
       "\n",
       "    .dataframe thead th {\n",
       "        text-align: right;\n",
       "    }\n",
       "</style>\n",
       "<table border=\"1\" class=\"dataframe\">\n",
       "  <thead>\n",
       "    <tr style=\"text-align: right;\">\n",
       "      <th></th>\n",
       "      <th>case_number</th>\n",
       "      <th>year</th>\n",
       "      <th>type</th>\n",
       "      <th>country</th>\n",
       "      <th>area</th>\n",
       "      <th>location</th>\n",
       "      <th>activity</th>\n",
       "      <th>name</th>\n",
       "      <th>age</th>\n",
       "      <th>time</th>\n",
       "      <th>species_</th>\n",
       "      <th>href</th>\n",
       "      <th>date</th>\n",
       "      <th>month</th>\n",
       "      <th>fatal_y/n</th>\n",
       "      <th>sex_m_f</th>\n",
       "    </tr>\n",
       "  </thead>\n",
       "  <tbody>\n",
       "    <tr>\n",
       "      <th>0</th>\n",
       "      <td>2018.06.25</td>\n",
       "      <td>2018.0</td>\n",
       "      <td>Boating</td>\n",
       "      <td>usa</td>\n",
       "      <td>California</td>\n",
       "      <td>Oceanside, San Diego County</td>\n",
       "      <td>Paddling</td>\n",
       "      <td>Julie Wolfe</td>\n",
       "      <td>57</td>\n",
       "      <td>18h00</td>\n",
       "      <td>White shark</td>\n",
       "      <td>http://sharkattackfile.net/spreadsheets/pdf_di...</td>\n",
       "      <td>25-Jun-2018</td>\n",
       "      <td>Jun</td>\n",
       "      <td>N</td>\n",
       "      <td>F</td>\n",
       "    </tr>\n",
       "  </tbody>\n",
       "</table>\n",
       "</div>"
      ],
      "text/plain": [
       "  case_number    year     type country        area  \\\n",
       "0  2018.06.25  2018.0  Boating     usa  California   \n",
       "\n",
       "                      location  activity         name age   time     species_  \\\n",
       "0  Oceanside, San Diego County  Paddling  Julie Wolfe  57  18h00  White shark   \n",
       "\n",
       "                                                href         date month  \\\n",
       "0  http://sharkattackfile.net/spreadsheets/pdf_di...  25-Jun-2018   Jun   \n",
       "\n",
       "  fatal_y/n sex_m_f  \n",
       "0         N       F  "
      ]
     },
     "execution_count": 4,
     "metadata": {},
     "output_type": "execute_result"
    }
   ],
   "source": [
    "df = pd.read_csv('attacks_limpieza_1.csv', index_col = 0)\n",
    "df.head(1)"
   ]
  },
  {
   "cell_type": "code",
   "execution_count": 15,
   "metadata": {},
   "outputs": [
    {
     "data": {
      "text/html": [
       "<div>\n",
       "<style scoped>\n",
       "    .dataframe tbody tr th:only-of-type {\n",
       "        vertical-align: middle;\n",
       "    }\n",
       "\n",
       "    .dataframe tbody tr th {\n",
       "        vertical-align: top;\n",
       "    }\n",
       "\n",
       "    .dataframe thead th {\n",
       "        text-align: right;\n",
       "    }\n",
       "</style>\n",
       "<table border=\"1\" class=\"dataframe\">\n",
       "  <thead>\n",
       "    <tr style=\"text-align: right;\">\n",
       "      <th></th>\n",
       "      <th>index</th>\n",
       "      <th>species_</th>\n",
       "    </tr>\n",
       "  </thead>\n",
       "  <tbody>\n",
       "    <tr>\n",
       "      <th>0</th>\n",
       "      <td>0</td>\n",
       "      <td>White shark</td>\n",
       "    </tr>\n",
       "    <tr>\n",
       "      <th>1</th>\n",
       "      <td>1</td>\n",
       "      <td>Tiger shark</td>\n",
       "    </tr>\n",
       "    <tr>\n",
       "      <th>2</th>\n",
       "      <td>2</td>\n",
       "      <td>Bull shark, 6'</td>\n",
       "    </tr>\n",
       "    <tr>\n",
       "      <th>3</th>\n",
       "      <td>3</td>\n",
       "      <td>Grey reef shark</td>\n",
       "    </tr>\n",
       "    <tr>\n",
       "      <th>4</th>\n",
       "      <td>4</td>\n",
       "      <td>Invalid incident</td>\n",
       "    </tr>\n",
       "    <tr>\n",
       "      <th>...</th>\n",
       "      <td>...</td>\n",
       "      <td>...</td>\n",
       "    </tr>\n",
       "    <tr>\n",
       "      <th>1541</th>\n",
       "      <td>1646</td>\n",
       "      <td>12' tiger shark</td>\n",
       "    </tr>\n",
       "    <tr>\n",
       "      <th>1542</th>\n",
       "      <td>1663</td>\n",
       "      <td>Blue pointer</td>\n",
       "    </tr>\n",
       "    <tr>\n",
       "      <th>1543</th>\n",
       "      <td>1664</td>\n",
       "      <td>Blue pointer</td>\n",
       "    </tr>\n",
       "    <tr>\n",
       "      <th>1544</th>\n",
       "      <td>1665</td>\n",
       "      <td>Blue pointers</td>\n",
       "    </tr>\n",
       "    <tr>\n",
       "      <th>1545</th>\n",
       "      <td>1666</td>\n",
       "      <td>Said to involve a grey nurse shark that leapt ...</td>\n",
       "    </tr>\n",
       "  </tbody>\n",
       "</table>\n",
       "<p>1546 rows × 2 columns</p>\n",
       "</div>"
      ],
      "text/plain": [
       "      index                                           species_\n",
       "0         0                                        White shark\n",
       "1         1                                        Tiger shark\n",
       "2         2                                     Bull shark, 6'\n",
       "3         3                                    Grey reef shark\n",
       "4         4                                   Invalid incident\n",
       "...     ...                                                ...\n",
       "1541   1646                                    12' tiger shark\n",
       "1542   1663                                       Blue pointer\n",
       "1543   1664                                       Blue pointer\n",
       "1544   1665                                      Blue pointers\n",
       "1545   1666  Said to involve a grey nurse shark that leapt ...\n",
       "\n",
       "[1546 rows x 2 columns]"
      ]
     },
     "execution_count": 15,
     "metadata": {},
     "output_type": "execute_result"
    }
   ],
   "source": [
    "# Vamos a sacar los patrones regex da cada especie.\n",
    "# Para ello, eliminamos temporalmente los nulos para poder filtrar las apariciones de cada tiburón\n",
    "# Y así sacar el patrón lo más preciso posible\n",
    "\n",
    "col_species = df['species_'].dropna().reset_index()\n",
    "col_species"
   ]
  },
  {
   "cell_type": "code",
   "execution_count": 18,
   "metadata": {},
   "outputs": [
    {
     "data": {
      "text/plain": [
       "array(['Tiger shark', \"Tiger shark, 12'\", 'Tiger shark, 8 to 10 feet',\n",
       "       \"Tiger shark, 10'\", \"Tiger shark, 10' \", 'Tiger shark, 2.5 m',\n",
       "       \"Tiger shark, 14'\", \"Tiger shark, 7'\", \"Tiger shark, 13' \",\n",
       "       \"Tiger shark, 13'\", 'Sandtiger shark', 'Tiger shark, 8 to 12 feet',\n",
       "       'Tiger shark, 3.5 m', \"Tiger shark, 10' to 12'\",\n",
       "       'Tiger shark, 3m ', 'Tiger shark?', \"Tiger shark, 8' to 10' \",\n",
       "       'Tiger shark, 4.8 m', \"Tiger shark, 15'\", \"Tiger shark, 6'\",\n",
       "       \"Tiger shark, 8'\", \"Tiger shark, 10' to 12' \",\n",
       "       \"Tiger shark, 10'  \", 'Tiger shark, 3m',\n",
       "       'Allegedly a 4 m tiger shark', 'Tiger shark, 2m',\n",
       "       \"Possibly a 5' to 6' sandtiger shark\", ' Tiger shark, 2.8m',\n",
       "       \"Sandtiger shark, 4' to 5'\", \"Sandtiger shark, 8'\",\n",
       "       \"Tiger shark, 14' \", \"6' to 8' shark, possibly a tiger shark\",\n",
       "       \"Tiger shark, 8' to 12'\", \"Tiger shark, 5' \",\n",
       "       \"Tiger shark, less than 10'\", \"Tiger shark, 3 m [10']\",\n",
       "       \"Sandtiger shark, 2.1 m [7'] \",\n",
       "       \"Tiger shark, 2.4 m to 3.7 m [8' to 12'] \",\n",
       "       'Thought to involve a 2.5 m bull or tiger shark',\n",
       "       'Tiger shark, 1.5 m ', \"Tiger shark, 2.4 m to 3 m [8' to 10'] \",\n",
       "       \"Tiger shark, 4 m [13']  ?\",\n",
       "       'Possibly a bull shark or tiger shark', \"Tiger shark, 1.5 m [5']k\",\n",
       "       'Bull or tiger shark', \"Tiger shark, 1.8 m [6'] \",\n",
       "       \"Tiger shark, 1.8 m [6']\",\n",
       "       \"Tiger shark, 1.8 m to 2.4 m [6' to 8'] \",\n",
       "       \"Tiger shark, 3 m [10'] \",\n",
       "       'Tiger shark, 3.7 m to 4.5 m [12\\' to 14\\'9\"]  ',\n",
       "       \"Tiger shark, 0.9 m to 1.5 m [3' to 5'] ?\",\n",
       "       \"Tiger shark, 2.5 m [8.25']\", 'Bronze whaler or tiger shark',\n",
       "       \"Tiger shark, 4 m to 4.3 m [13' to 14'] \",\n",
       "       \"Tiger shark, 2.7m  [9']\", 'Tiger shark, 2m to 3m ',\n",
       "       'Tiger shark, 4.5 m [14\\'9\"]', \"Tiger shark, 2.4 m [8'] \",\n",
       "       'Possibly a tiger shark', 'Tiger shark, 300-kg [662-lb] ',\n",
       "       \"Tiger shark, 3.7 m [12'] \",\n",
       "       'Tiger shark caught 6 days later with diver\\x92s remains in its gut',\n",
       "       'Thought to involve a tiger shark',\n",
       "       \"Tiger shark, 3.7 m [12'], (tooth fragment recovered from wound)\",\n",
       "       \"Tiger shark, 2.4 m [8']\",\n",
       "       \"Tiger shark, 3 m to 4.9 m [10' to 16'] \",\n",
       "       \"Tiger shark, 3 m to 3.7 m [10' to 12'] \",\n",
       "       \"Tiger shark, 4.3 m [14'] \",\n",
       "       \"Tiger shark, 2.4 m 3.4 m [8' to 11']  \",\n",
       "       \"Tiger shark, 3 to 4 m [10' to 13'] \", \"Tiger shark, >3 m [10']\",\n",
       "       'Tiger shark, 3 m ', \"Tiger shark, 4 m [13'] \",\n",
       "       'Tiger shark, 4 m ', \"Tiger shark, 5 m [16.5']\",\n",
       "       'Said to involve a tiger shark or a hammerhead shark',\n",
       "       \"Tiger shark, 2.1 m [7']\", 'Tiger shark, 2.5 m ',\n",
       "       \"Tiger shark, 6' \", 'Tiger shark, tooth fragment recovered',\n",
       "       \">1.2 m [4'] tiger shark\", \"Tiger shark, 3.7 m [12']\",\n",
       "       \"Tiger shark, 4.6 m to 7.6 m [15' to 25'] \",\n",
       "       \"Tiger shark, 1.5 m to 1.8 m [5' to 6'] \", 'Tiger shark, <2 m TL',\n",
       "       \"2.4 m [8'] tiger shark caught 40 hours later with shorts of the boy in its gut\",\n",
       "       \"Tiger shark, 3.7 m to 4.3 m  [12' to 14']\",\n",
       "       'Tiger shark,  3.6 m [11\\'9\"], 850-kg [1874-lb] female, contained Girvan\\'s remains ',\n",
       "       \"Tiger shark, 9' to 10' \", \"Tiger shark, 4.6 m [15'] \",\n",
       "       \"Tiger shark, 1.5 m [5'] \", \"Tiger shark, 4 m [13'] female\",\n",
       "       \"12' tiger shark\"], dtype=object)"
      ]
     },
     "execution_count": 18,
     "metadata": {},
     "output_type": "execute_result"
    }
   ],
   "source": [
    "col_species[col_species['species_'].str.contains('tiger', case=False)]['species_'].unique()"
   ]
  },
  {
   "cell_type": "code",
   "execution_count": null,
   "metadata": {},
   "outputs": [],
   "source": []
  },
  {
   "cell_type": "code",
   "execution_count": null,
   "metadata": {},
   "outputs": [],
   "source": [
    "def clasif_especies (fila):\n",
    "    \n",
    "    patron_blanco = r\".*[Ww](hite|HITE).*\"\n",
    "    if re.findall(patron_blanco, fila):\n",
    "        fila.replace(fila, 'white shark')\n",
    "    elif \n"
   ]
  },
  {
   "cell_type": "markdown",
   "metadata": {},
   "source": [
    "\n",
    "2. Columna de age: es una columna de tipo string pero debería ser de tipo integer. Además, en esta columna nos vamos a encontrar con algunos errores tipográficos, estos incluyen:\n",
    "* Edad en formato string\n",
    "* Edades separadas por &, or, to, >\n",
    "* Edades con ?\n",
    "\n",
    "Vamos con algunas 💡 pistas 💡 para que os ayuden a entender cómo hacerlo:\n",
    "* Primero tendremos que eliminar todos esos símbolos especiales que nos aparecen. De nuevo, podremos usar regex para extraer unicamente los números que es lo que nos interesa. Usar este regex en una función para sacar solo los números.\n"
   ]
  },
  {
   "cell_type": "markdown",
   "metadata": {},
   "source": []
  },
  {
   "cell_type": "markdown",
   "metadata": {},
   "source": [
    "* Puede que os salga un error similar a este:\n",
    ">```python\n",
    ">TypeError: expected string or bytes-like object\n",
    ">```\n",
    "Para solucionar este problema, antes de nada tendréis que ejecutar este código para que no os de error:\n",
    ">```python\n",
    ">df['nombre_columna'] = df['nombre_columna'].astype(str)\n",
    ">```\n"
   ]
  },
  {
   "cell_type": "markdown",
   "metadata": {},
   "source": [
    "* Una vez que hayáis extraido los números, os daréis cuenta que hay celdas que tienen más de una edad. Tendréis que decidir que hacer en esos casos. Os dejamos por aquí una posible opción usando un método de Pandas que os puede resultar super útil. El método `explode`.\n"
   ]
  },
  {
   "cell_type": "markdown",
   "metadata": {},
   "source": [
    "\n",
    "* Por último cambiad el tipo de la columna de string a integer.\n"
   ]
  },
  {
   "cell_type": "markdown",
   "metadata": {},
   "source": [
    "\n",
    "3. Guarda el csv con las columnas limpias para seguir trabajando con este dataframe limpio.\n"
   ]
  }
 ],
 "metadata": {
  "kernelspec": {
   "display_name": "Python 3.9.7 ('base')",
   "language": "python",
   "name": "python3"
  },
  "language_info": {
   "codemirror_mode": {
    "name": "ipython",
    "version": 3
   },
   "file_extension": ".py",
   "mimetype": "text/x-python",
   "name": "python",
   "nbconvert_exporter": "python",
   "pygments_lexer": "ipython3",
   "version": "3.9.7"
  },
  "orig_nbformat": 4,
  "vscode": {
   "interpreter": {
    "hash": "6be5d780ee9b0e6fe20ff9090f4981b24f52f07297829e94136e87c5137905e3"
   }
  }
 },
 "nbformat": 4,
 "nbformat_minor": 2
}
