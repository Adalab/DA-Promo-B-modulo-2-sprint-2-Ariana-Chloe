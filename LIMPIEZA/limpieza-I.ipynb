{
 "cells": [
  {
   "cell_type": "markdown",
   "metadata": {},
   "source": [
    "Antes de seguir, recordamos las preguntas que nos planteamos al principio del pair programming de EDA para dirigir nuestro análisis.\n",
    "\n",
    "* ¿Es Australia es el sitio más peligroso y letal para estar relajada en la playa?\n",
    "* ¿Cuál es el rango de edad que sufre la mayoría de los ataques?\n",
    "* Independientemente de la edad, sufren los hombres más ataques que las mujeres?\n",
    "* ¿En qué mes ocurren más ataques?\n",
    "* ¿Cuál es la relación entre la especie y el tipo de ataque (si es fatal o no)?\n",
    "* ¿Cómo han evolucionado los ataques a lo largo del tiempo?\n",
    "* De todo esto, nos damos cuenta que solo tenemos que limpiar algunas de las columnas, en concreto age, species, country, fatal, year, sex. Si reducimos esto a una tabla para saber que tenemos ya limpito y que no:\n",
    "variable\n",
    "\n",
    "¿Está limpia?\n",
    "\n",
    "age\n",
    "❌ esta en formato string cuando debería ser integer y en algunos casos tenemos rangos de edad\n",
    "\n",
    "species\n",
    "❌ es un jaleo! Debemos unificar los nombres y reducir a las especies más importantes\n",
    "\n",
    "country\n",
    "❌ los paises están en mayúsculas, algunos se repiten con algunos cambios\n",
    "\n",
    "\n",
    "fatal\n",
    "✔️ la limpiamos en el pair de Pandas V\n",
    "\n",
    "year\n",
    "❌ es una columna de tipo float deberíamos convertirla a integer\n",
    "\n",
    "sex\n",
    "✔️ la limpiamos en el pair de Pandas V\n",
    "\n",
    "fecha\n",
    "✔️ la limpiamos en el pair de Pandas V\n"
   ]
  },
  {
   "cell_type": "code",
   "execution_count": 1,
   "metadata": {},
   "outputs": [],
   "source": [
    "import pandas as pd\n",
    "import numpy as np\n",
    "import sidetable"
   ]
  },
  {
   "cell_type": "code",
   "execution_count": 2,
   "metadata": {},
   "outputs": [],
   "source": [
    "df = pd.read_csv('attacks_modificado_4.csv', index_col = 0)"
   ]
  },
  {
   "cell_type": "markdown",
   "metadata": {},
   "source": [
    "Entre las tareas que tendréis que hacer hoy:\n",
    "\n",
    "1. Al empezar a trabajar con este dataframe ya eliminamos algunas columnas que a priori no nos interesaban. Ahora llega el momento de eliminar alguna columna más. En este caso vamos tendréis que eliminar las columnas que no nos sean útiles para contestar a nuestras preguntas. Pero ojo ⚠️, haced una copia del dataframe para no \"cargarnos\" el dataframe original y perder la info.\n"
   ]
  },
  {
   "cell_type": "code",
   "execution_count": 31,
   "metadata": {},
   "outputs": [],
   "source": [
    "df2 = df.copy()"
   ]
  },
  {
   "cell_type": "code",
   "execution_count": 32,
   "metadata": {},
   "outputs": [
    {
     "data": {
      "text/plain": [
       "Index(['unnamed:_0', 'case_number', 'year', 'type', 'country', 'area',\n",
       "       'location', 'activity', 'name', 'age', 'time', 'species_', 'href',\n",
       "       'siglo', 'injury', 'date', 'month', 'fatal_y/n', 'sex_m_f'],\n",
       "      dtype='object')"
      ]
     },
     "execution_count": 32,
     "metadata": {},
     "output_type": "execute_result"
    }
   ],
   "source": [
    "df2.columns"
   ]
  },
  {
   "cell_type": "code",
   "execution_count": 33,
   "metadata": {},
   "outputs": [],
   "source": [
    "pd.options.display.max_columns=None"
   ]
  },
  {
   "cell_type": "code",
   "execution_count": 34,
   "metadata": {},
   "outputs": [
    {
     "data": {
      "text/html": [
       "<div>\n",
       "<style scoped>\n",
       "    .dataframe tbody tr th:only-of-type {\n",
       "        vertical-align: middle;\n",
       "    }\n",
       "\n",
       "    .dataframe tbody tr th {\n",
       "        vertical-align: top;\n",
       "    }\n",
       "\n",
       "    .dataframe thead th {\n",
       "        text-align: right;\n",
       "    }\n",
       "</style>\n",
       "<table border=\"1\" class=\"dataframe\">\n",
       "  <thead>\n",
       "    <tr style=\"text-align: right;\">\n",
       "      <th></th>\n",
       "      <th>unnamed:_0</th>\n",
       "      <th>case_number</th>\n",
       "      <th>year</th>\n",
       "      <th>type</th>\n",
       "      <th>country</th>\n",
       "      <th>area</th>\n",
       "      <th>location</th>\n",
       "      <th>activity</th>\n",
       "      <th>name</th>\n",
       "      <th>age</th>\n",
       "      <th>time</th>\n",
       "      <th>species_</th>\n",
       "      <th>href</th>\n",
       "      <th>siglo</th>\n",
       "      <th>injury</th>\n",
       "      <th>date</th>\n",
       "      <th>month</th>\n",
       "      <th>fatal_y/n</th>\n",
       "      <th>sex_m_f</th>\n",
       "    </tr>\n",
       "  </thead>\n",
       "  <tbody>\n",
       "    <tr>\n",
       "      <th>0</th>\n",
       "      <td>0</td>\n",
       "      <td>2018.06.25</td>\n",
       "      <td>2018.0</td>\n",
       "      <td>Boating</td>\n",
       "      <td>USA</td>\n",
       "      <td>California</td>\n",
       "      <td>Oceanside, San Diego County</td>\n",
       "      <td>Paddling</td>\n",
       "      <td>Julie Wolfe</td>\n",
       "      <td>57</td>\n",
       "      <td>18h00</td>\n",
       "      <td>White shark</td>\n",
       "      <td>http://sharkattackfile.net/spreadsheets/pdf_di...</td>\n",
       "      <td>NaN</td>\n",
       "      <td>No injury to occupant, outrigger canoe and pad...</td>\n",
       "      <td>25-Jun-2018</td>\n",
       "      <td>Jun</td>\n",
       "      <td>N</td>\n",
       "      <td>F</td>\n",
       "    </tr>\n",
       "    <tr>\n",
       "      <th>1</th>\n",
       "      <td>6</td>\n",
       "      <td>2018.06.03.a</td>\n",
       "      <td>2018.0</td>\n",
       "      <td>Unprovoked</td>\n",
       "      <td>BRAZIL</td>\n",
       "      <td>Pernambuco</td>\n",
       "      <td>Piedade Beach, Recife</td>\n",
       "      <td>Swimming</td>\n",
       "      <td>Jose Ernesto da Silva</td>\n",
       "      <td>18</td>\n",
       "      <td>Late afternoon</td>\n",
       "      <td>Tiger shark</td>\n",
       "      <td>http://sharkattackfile.net/spreadsheets/pdf_di...</td>\n",
       "      <td>NaN</td>\n",
       "      <td>FATAL</td>\n",
       "      <td>03-Jun-2018</td>\n",
       "      <td>Jun</td>\n",
       "      <td>Y</td>\n",
       "      <td>M</td>\n",
       "    </tr>\n",
       "    <tr>\n",
       "      <th>2</th>\n",
       "      <td>8</td>\n",
       "      <td>2018.05.26.b</td>\n",
       "      <td>2018.0</td>\n",
       "      <td>Unprovoked</td>\n",
       "      <td>USA</td>\n",
       "      <td>Florida</td>\n",
       "      <td>Cocoa Beach, Brevard  County</td>\n",
       "      <td>Walking</td>\n",
       "      <td>Cody High</td>\n",
       "      <td>15</td>\n",
       "      <td>17h00</td>\n",
       "      <td>Bull shark, 6'</td>\n",
       "      <td>http://sharkattackfile.net/spreadsheets/pdf_di...</td>\n",
       "      <td>NaN</td>\n",
       "      <td>Lower left leg bitten</td>\n",
       "      <td>26-May-2018</td>\n",
       "      <td>May</td>\n",
       "      <td>N</td>\n",
       "      <td>M</td>\n",
       "    </tr>\n",
       "    <tr>\n",
       "      <th>3</th>\n",
       "      <td>10</td>\n",
       "      <td>2018.05.24</td>\n",
       "      <td>2018.0</td>\n",
       "      <td>Provoked</td>\n",
       "      <td>AUSTRALIA</td>\n",
       "      <td>Queensland</td>\n",
       "      <td>Cairns Aquarium</td>\n",
       "      <td>Feeding sharks</td>\n",
       "      <td>male</td>\n",
       "      <td>32</td>\n",
       "      <td>Morning</td>\n",
       "      <td>Grey reef shark</td>\n",
       "      <td>http://sharkattackfile.net/spreadsheets/pdf_di...</td>\n",
       "      <td>NaN</td>\n",
       "      <td>Minor bite to hand by captive shark. PROVOKED ...</td>\n",
       "      <td>24-May-2018</td>\n",
       "      <td>May</td>\n",
       "      <td>N</td>\n",
       "      <td>M</td>\n",
       "    </tr>\n",
       "    <tr>\n",
       "      <th>4</th>\n",
       "      <td>13</td>\n",
       "      <td>2018.05.13.a</td>\n",
       "      <td>2018.0</td>\n",
       "      <td>Invalid</td>\n",
       "      <td>ENGLAND</td>\n",
       "      <td>Cornwall</td>\n",
       "      <td>Off Land's End</td>\n",
       "      <td>Fishing</td>\n",
       "      <td>Max Berryman</td>\n",
       "      <td>21</td>\n",
       "      <td>08h15</td>\n",
       "      <td>Invalid incident</td>\n",
       "      <td>http://sharkattackfile.net/spreadsheets/pdf_di...</td>\n",
       "      <td>NaN</td>\n",
       "      <td>Injured by teeth of a dead porbeagle shark he ...</td>\n",
       "      <td>13-May-2018</td>\n",
       "      <td>May</td>\n",
       "      <td>N</td>\n",
       "      <td>M</td>\n",
       "    </tr>\n",
       "  </tbody>\n",
       "</table>\n",
       "</div>"
      ],
      "text/plain": [
       "   unnamed:_0   case_number    year        type    country        area  \\\n",
       "0           0    2018.06.25  2018.0     Boating        USA  California   \n",
       "1           6  2018.06.03.a  2018.0  Unprovoked     BRAZIL  Pernambuco   \n",
       "2           8  2018.05.26.b  2018.0  Unprovoked        USA     Florida   \n",
       "3          10    2018.05.24  2018.0    Provoked  AUSTRALIA  Queensland   \n",
       "4          13  2018.05.13.a  2018.0     Invalid    ENGLAND    Cornwall   \n",
       "\n",
       "                       location        activity                    name age  \\\n",
       "0   Oceanside, San Diego County        Paddling             Julie Wolfe  57   \n",
       "1         Piedade Beach, Recife        Swimming  Jose Ernesto da Silva   18   \n",
       "2  Cocoa Beach, Brevard  County         Walking               Cody High  15   \n",
       "3               Cairns Aquarium  Feeding sharks                    male  32   \n",
       "4                Off Land's End         Fishing            Max Berryman  21   \n",
       "\n",
       "             time          species_  \\\n",
       "0           18h00       White shark   \n",
       "1  Late afternoon       Tiger shark   \n",
       "2           17h00    Bull shark, 6'   \n",
       "3         Morning   Grey reef shark   \n",
       "4           08h15  Invalid incident   \n",
       "\n",
       "                                                href siglo  \\\n",
       "0  http://sharkattackfile.net/spreadsheets/pdf_di...   NaN   \n",
       "1  http://sharkattackfile.net/spreadsheets/pdf_di...   NaN   \n",
       "2  http://sharkattackfile.net/spreadsheets/pdf_di...   NaN   \n",
       "3  http://sharkattackfile.net/spreadsheets/pdf_di...   NaN   \n",
       "4  http://sharkattackfile.net/spreadsheets/pdf_di...   NaN   \n",
       "\n",
       "                                              injury         date month  \\\n",
       "0  No injury to occupant, outrigger canoe and pad...  25-Jun-2018   Jun   \n",
       "1                                              FATAL  03-Jun-2018   Jun   \n",
       "2                              Lower left leg bitten  26-May-2018   May   \n",
       "3  Minor bite to hand by captive shark. PROVOKED ...  24-May-2018   May   \n",
       "4  Injured by teeth of a dead porbeagle shark he ...  13-May-2018   May   \n",
       "\n",
       "  fatal_y/n sex_m_f  \n",
       "0         N       F  \n",
       "1         Y       M  \n",
       "2         N       M  \n",
       "3         N       M  \n",
       "4         N       M  "
      ]
     },
     "execution_count": 34,
     "metadata": {},
     "output_type": "execute_result"
    }
   ],
   "source": [
    "df2.head()"
   ]
  },
  {
   "cell_type": "code",
   "execution_count": null,
   "metadata": {},
   "outputs": [],
   "source": [
    "# Decidimos elimar las columnas 'siglo' e 'injury', \n",
    "# ya que no aportan mucha informacion util o se encuentra demasiado sucia como para aprovecharla\n",
    "# Valoraremos mas adelante si eliminar la columna 'time'"
   ]
  },
  {
   "cell_type": "code",
   "execution_count": 35,
   "metadata": {},
   "outputs": [],
   "source": [
    "df2.drop(['unnamed:_0','siglo', 'injury'], axis = 1, inplace = True)"
   ]
  },
  {
   "cell_type": "code",
   "execution_count": 36,
   "metadata": {},
   "outputs": [
    {
     "data": {
      "text/plain": [
       "Index(['case_number', 'year', 'type', 'country', 'area', 'location',\n",
       "       'activity', 'name', 'age', 'time', 'species_', 'href', 'date', 'month',\n",
       "       'fatal_y/n', 'sex_m_f'],\n",
       "      dtype='object')"
      ]
     },
     "execution_count": 36,
     "metadata": {},
     "output_type": "execute_result"
    }
   ],
   "source": [
    "df2.columns"
   ]
  },
  {
   "cell_type": "markdown",
   "metadata": {},
   "source": [
    "2. ¿Hay valores duplicados en nuestro dataframe? En caso de que los haya, eliminándolos.\n"
   ]
  },
  {
   "cell_type": "code",
   "execution_count": null,
   "metadata": {},
   "outputs": [
    {
     "data": {
      "text/plain": [
       "0"
      ]
     },
     "execution_count": 17,
     "metadata": {},
     "output_type": "execute_result"
    }
   ],
   "source": [
    "df2.duplicated().sum()"
   ]
  },
  {
   "cell_type": "markdown",
   "metadata": {},
   "source": [
    "3. Como hemos visto, algunas columnas no tienen el tipo de datos que deberían. Cambiad el tipo de dato para la columna de year.\n"
   ]
  },
  {
   "cell_type": "code",
   "execution_count": null,
   "metadata": {},
   "outputs": [
    {
     "name": "stdout",
     "output_type": "stream",
     "text": [
      "<class 'pandas.core.frame.DataFrame'>\n",
      "Int64Index: 1672 entries, 0 to 1671\n",
      "Data columns (total 16 columns):\n",
      " #   Column       Non-Null Count  Dtype  \n",
      "---  ------       --------------  -----  \n",
      " 0   case_number  1672 non-null   object \n",
      " 1   year         1672 non-null   float64\n",
      " 2   type         1672 non-null   object \n",
      " 3   country      1662 non-null   object \n",
      " 4   area         1626 non-null   object \n",
      " 5   location     1621 non-null   object \n",
      " 6   activity     1641 non-null   object \n",
      " 7   name         1663 non-null   object \n",
      " 8   age          1518 non-null   object \n",
      " 9   time         1512 non-null   object \n",
      " 10  species_     1546 non-null   object \n",
      " 11  href         1672 non-null   object \n",
      " 12  date         1672 non-null   object \n",
      " 13  month        1491 non-null   object \n",
      " 14  fatal_y/n    1573 non-null   object \n",
      " 15  sex_m_f      1672 non-null   object \n",
      "dtypes: float64(1), object(15)\n",
      "memory usage: 286.6+ KB\n"
     ]
    }
   ],
   "source": [
    "df2.info()"
   ]
  },
  {
   "cell_type": "code",
   "execution_count": null,
   "metadata": {},
   "outputs": [],
   "source": [
    "df2['year'] = df2['year'].astype(int)"
   ]
  },
  {
   "cell_type": "code",
   "execution_count": null,
   "metadata": {},
   "outputs": [
    {
     "name": "stdout",
     "output_type": "stream",
     "text": [
      "<class 'pandas.core.frame.DataFrame'>\n",
      "Int64Index: 1672 entries, 0 to 1671\n",
      "Data columns (total 16 columns):\n",
      " #   Column       Non-Null Count  Dtype \n",
      "---  ------       --------------  ----- \n",
      " 0   case_number  1672 non-null   object\n",
      " 1   year         1672 non-null   int64 \n",
      " 2   type         1672 non-null   object\n",
      " 3   country      1662 non-null   object\n",
      " 4   area         1626 non-null   object\n",
      " 5   location     1621 non-null   object\n",
      " 6   activity     1641 non-null   object\n",
      " 7   name         1663 non-null   object\n",
      " 8   age          1518 non-null   object\n",
      " 9   time         1512 non-null   object\n",
      " 10  species_     1546 non-null   object\n",
      " 11  href         1672 non-null   object\n",
      " 12  date         1672 non-null   object\n",
      " 13  month        1491 non-null   object\n",
      " 14  fatal_y/n    1573 non-null   object\n",
      " 15  sex_m_f      1672 non-null   object\n",
      "dtypes: int64(1), object(15)\n",
      "memory usage: 286.6+ KB\n"
     ]
    }
   ],
   "source": [
    "df2.info()"
   ]
  },
  {
   "cell_type": "markdown",
   "metadata": {},
   "source": [
    "4. En la columna de country poner todos los valores en minúsculas.\n",
    "💡 Pista Tendréis que usar una función o una lambda 💡\n"
   ]
  },
  {
   "cell_type": "code",
   "execution_count": 37,
   "metadata": {},
   "outputs": [
    {
     "data": {
      "text/plain": [
       "array(['USA', 'BRAZIL', 'AUSTRALIA', 'ENGLAND', 'COSTA RICA', 'MALDIVES',\n",
       "       'SOUTH AFRICA', 'CUBA', 'SPAIN', 'BAHAMAS', 'INDONESIA', 'EGYPT',\n",
       "       'NEW ZEALAND', 'FRENCH POLYNESIA', 'NEW CALEDONIA', 'ECUADOR',\n",
       "       'THAILAND', 'REUNION', 'MEXICO', 'JAMAICA', 'ITALY',\n",
       "       'PAPUA NEW GUINEA', 'RUSSIA', 'SEYCHELLES', 'VIETNAM', 'GUAM',\n",
       "       'MOZAMBIQUE', 'SCOTLAND', 'UNITED KINGDOM', 'TAIWAN', 'CROATIA',\n",
       "       'FIJI', 'TONGA', 'ST. MAARTIN', 'GRAND CAYMAN', 'VANUATU',\n",
       "       'VENEZUELA', 'TURKS & CAICOS', 'OKINAWA', 'MARSHALL ISLANDS',\n",
       "       'MAURITIUS', 'HONG KONG', 'JAPAN', 'SOUTH KOREA', 'ISRAEL',\n",
       "       'MICRONESIA', 'COLUMBIA', 'NEW BRITAIN', 'PALAU',\n",
       "       'SOLOMON ISLANDS', 'FEDERATED STATES OF MICRONESIA', 'GREECE',\n",
       "       'BRITISH WEST INDIES', 'NORTH PACIFIC OCEAN', 'BERMUDA',\n",
       "       'PHILIPPINES', 'AMERICAN SAMOA', 'PACIFIC OCEAN', 'SENEGAL',\n",
       "       'ARGENTINA', 'EL SALVADOR', 'IRAQ', 'PANAMA', 'INDIA', nan,\n",
       "       'BARBADOS', 'MARTINIQUE', 'GUINEA', 'GREENLAND', 'FRANCE',\n",
       "       'MEDITERRANEAN SEA', 'SWEDEN', 'ICELAND', 'ROATAN',\n",
       "       'Between PORTUGAL & INDIA', 'CANADA', 'KENYA', 'URUGUAY',\n",
       "       'LEBANON', 'SUDAN', 'DJIBOUTI', 'LIBYA', 'SRI LANKA', 'BAHREIN',\n",
       "       'KOREA', 'IRAN', 'RED SEA?', 'SINGAPORE', 'MADAGASCAR',\n",
       "       'NICARAGUA', 'KIRIBATI', 'SAUDI ARABIA', 'BURMA', 'BELIZE',\n",
       "       'ASIA?', 'CEYLON (SRI LANKA)'], dtype=object)"
      ]
     },
     "execution_count": 37,
     "metadata": {},
     "output_type": "execute_result"
    }
   ],
   "source": [
    "df2['country'].unique()"
   ]
  },
  {
   "cell_type": "code",
   "execution_count": 38,
   "metadata": {},
   "outputs": [],
   "source": [
    "def lower(fila):\n",
    "    if type(fila) == str:\n",
    "        return fila.lower()\n",
    "    else:\n",
    "        type(fila) == np.nan\n",
    "        pass"
   ]
  },
  {
   "cell_type": "code",
   "execution_count": 39,
   "metadata": {},
   "outputs": [],
   "source": [
    "df2['country'] = (df2['country']).apply(lower)"
   ]
  },
  {
   "cell_type": "code",
   "execution_count": 40,
   "metadata": {},
   "outputs": [
    {
     "data": {
      "text/plain": [
       "array(['usa', 'brazil', 'australia', 'england', 'costa rica', 'maldives',\n",
       "       'south africa', 'cuba', 'spain', 'bahamas', 'indonesia', 'egypt',\n",
       "       'new zealand', 'french polynesia', 'new caledonia', 'ecuador',\n",
       "       'thailand', 'reunion', 'mexico', 'jamaica', 'italy',\n",
       "       'papua new guinea', 'russia', 'seychelles', 'vietnam', 'guam',\n",
       "       'mozambique', 'scotland', 'united kingdom', 'taiwan', 'croatia',\n",
       "       'fiji', 'tonga', 'st. maartin', 'grand cayman', 'vanuatu',\n",
       "       'venezuela', 'turks & caicos', 'okinawa', 'marshall islands',\n",
       "       'mauritius', 'hong kong', 'japan', 'south korea', 'israel',\n",
       "       'micronesia', 'columbia', 'new britain', 'palau',\n",
       "       'solomon islands', 'federated states of micronesia', 'greece',\n",
       "       'british west indies', 'north pacific ocean', 'bermuda',\n",
       "       'philippines', 'american samoa', 'pacific ocean', 'senegal',\n",
       "       'argentina', 'el salvador', 'iraq', 'panama', 'india', None,\n",
       "       'barbados', 'martinique', 'guinea', 'greenland', 'france',\n",
       "       'mediterranean sea', 'sweden', 'iceland', 'roatan',\n",
       "       'between portugal & india', 'canada', 'kenya', 'uruguay',\n",
       "       'lebanon', 'sudan', 'djibouti', 'libya', 'sri lanka', 'bahrein',\n",
       "       'korea', 'iran', 'red sea?', 'singapore', 'madagascar',\n",
       "       'nicaragua', 'kiribati', 'saudi arabia', 'burma', 'belize',\n",
       "       'asia?', 'ceylon (sri lanka)'], dtype=object)"
      ]
     },
     "execution_count": 40,
     "metadata": {},
     "output_type": "execute_result"
    }
   ],
   "source": [
    "df2['country'].unique()"
   ]
  },
  {
   "cell_type": "code",
   "execution_count": null,
   "metadata": {},
   "outputs": [
    {
     "ename": "SyntaxError",
     "evalue": "invalid syntax (1408464770.py, line 1)",
     "output_type": "error",
     "traceback": [
      "\u001b[0;36m  File \u001b[0;32m\"/tmp/ipykernel_196/1408464770.py\"\u001b[0;36m, line \u001b[0;32m1\u001b[0m\n\u001b[0;31m    df2['country'] = df2['country'].apply(lambda fila:  fila.lower() if type(fila) == 'object')\u001b[0m\n\u001b[0m                                                                                              ^\u001b[0m\n\u001b[0;31mSyntaxError\u001b[0m\u001b[0;31m:\u001b[0m invalid syntax\n"
     ]
    }
   ],
   "source": [
    "df2['country'] = (df2['country']).apply(lambda fila:  fila.lower() if type(fila) == str)\n",
    "\n",
    "# Como se resuelve con una lambda?"
   ]
  },
  {
   "cell_type": "code",
   "execution_count": null,
   "metadata": {},
   "outputs": [],
   "source": [
    "# ¿porque nos cambia el nan a none si le hemos dicho que pase?"
   ]
  },
  {
   "cell_type": "markdown",
   "metadata": {},
   "source": [
    "\n",
    "5. Guardamos el csv para seguir trabajando en el siguiente ejercicio de pair de limpieza."
   ]
  },
  {
   "cell_type": "code",
   "execution_count": 41,
   "metadata": {},
   "outputs": [],
   "source": [
    "df2.to_csv('attacks_limpieza_1.csv')"
   ]
  }
 ],
 "metadata": {
  "kernelspec": {
   "display_name": "Python 3.9.7 ('base')",
   "language": "python",
   "name": "python3"
  },
  "language_info": {
   "codemirror_mode": {
    "name": "ipython",
    "version": 3
   },
   "file_extension": ".py",
   "mimetype": "text/x-python",
   "name": "python",
   "nbconvert_exporter": "python",
   "pygments_lexer": "ipython3",
   "version": "3.9.7"
  },
  "orig_nbformat": 4,
  "vscode": {
   "interpreter": {
    "hash": "6be5d780ee9b0e6fe20ff9090f4981b24f52f07297829e94136e87c5137905e3"
   }
  }
 },
 "nbformat": 4,
 "nbformat_minor": 2
}
