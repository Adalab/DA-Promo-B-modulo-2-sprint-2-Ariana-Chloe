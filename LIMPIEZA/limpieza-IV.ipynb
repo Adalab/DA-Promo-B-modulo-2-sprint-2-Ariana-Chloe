{
 "cells": [
  {
   "cell_type": "markdown",
   "metadata": {},
   "source": [
    "Antes de seguir, recordamos las preguntas que nos planteamos al principio del pair programming de EDA para dirigir nuestro análisis.\n",
    "\n",
    "¿Es Australia es el sitio más peligroso y letal para estar relajada en la playa?\n",
    "\n",
    "¿Cuál es el rango de edad que sufre la mayoría de los ataques?\n",
    "\n",
    "Independientemente de la edad, sufren los hombres más ataques que las mujeres?\n",
    "\n",
    "¿En qué mes ocurren más ataques?\n",
    "\n",
    "¿Cuál es la relación entre la especie y el tipo de ataque (si es fatal o no)?\n",
    "\n",
    "¿Cómo han evolucionado los ataques a lo largo del tiempo?\n",
    "\n",
    "\n",
    "Tabla actualizada de columnas limpias\n"
   ]
  },
  {
   "cell_type": "markdown",
   "metadata": {},
   "source": [
    "![alt text](LimpiezaIV.png \"Tabla Limpieza IV\")"
   ]
  },
  {
   "cell_type": "code",
   "execution_count": 1,
   "metadata": {},
   "outputs": [],
   "source": [
    "import pandas as pd\n",
    "import numpy as np\n",
    "import matplotlib.pyplot as plt\n",
    "import seaborn as sns\n",
    "import sidetable as stb\n",
    "pd.options.display.max_rows=None\n",
    "plt.rcParams['figure.figsize']= (15,12)"
   ]
  },
  {
   "cell_type": "code",
   "execution_count": 2,
   "metadata": {},
   "outputs": [
    {
     "data": {
      "text/html": [
       "<div>\n",
       "<style scoped>\n",
       "    .dataframe tbody tr th:only-of-type {\n",
       "        vertical-align: middle;\n",
       "    }\n",
       "\n",
       "    .dataframe tbody tr th {\n",
       "        vertical-align: top;\n",
       "    }\n",
       "\n",
       "    .dataframe thead th {\n",
       "        text-align: right;\n",
       "    }\n",
       "</style>\n",
       "<table border=\"1\" class=\"dataframe\">\n",
       "  <thead>\n",
       "    <tr style=\"text-align: right;\">\n",
       "      <th></th>\n",
       "      <th>case_number</th>\n",
       "      <th>year</th>\n",
       "      <th>type</th>\n",
       "      <th>country</th>\n",
       "      <th>area</th>\n",
       "      <th>location</th>\n",
       "      <th>activity</th>\n",
       "      <th>name</th>\n",
       "      <th>age</th>\n",
       "      <th>time</th>\n",
       "      <th>species_</th>\n",
       "      <th>href</th>\n",
       "      <th>date</th>\n",
       "      <th>month</th>\n",
       "      <th>fatal_y/n</th>\n",
       "      <th>sex_m_f</th>\n",
       "    </tr>\n",
       "  </thead>\n",
       "  <tbody>\n",
       "    <tr>\n",
       "      <th>0</th>\n",
       "      <td>2018.06.25</td>\n",
       "      <td>2018</td>\n",
       "      <td>Boating</td>\n",
       "      <td>usa</td>\n",
       "      <td>California</td>\n",
       "      <td>Oceanside, San Diego County</td>\n",
       "      <td>Paddling</td>\n",
       "      <td>Julie Wolfe</td>\n",
       "      <td>57.0</td>\n",
       "      <td>18h00</td>\n",
       "      <td>white shark</td>\n",
       "      <td>http://sharkattackfile.net/spreadsheets/pdf_di...</td>\n",
       "      <td>25-Jun-2018</td>\n",
       "      <td>Jun</td>\n",
       "      <td>N</td>\n",
       "      <td>F</td>\n",
       "    </tr>\n",
       "    <tr>\n",
       "      <th>1</th>\n",
       "      <td>2018.06.03.a</td>\n",
       "      <td>2018</td>\n",
       "      <td>Unprovoked</td>\n",
       "      <td>brazil</td>\n",
       "      <td>Pernambuco</td>\n",
       "      <td>Piedade Beach, Recife</td>\n",
       "      <td>Swimming</td>\n",
       "      <td>Jose Ernesto da Silva</td>\n",
       "      <td>18.0</td>\n",
       "      <td>Late afternoon</td>\n",
       "      <td>tiger shark</td>\n",
       "      <td>http://sharkattackfile.net/spreadsheets/pdf_di...</td>\n",
       "      <td>03-Jun-2018</td>\n",
       "      <td>Jun</td>\n",
       "      <td>Y</td>\n",
       "      <td>M</td>\n",
       "    </tr>\n",
       "  </tbody>\n",
       "</table>\n",
       "</div>"
      ],
      "text/plain": [
       "    case_number  year        type country        area  \\\n",
       "0    2018.06.25  2018     Boating     usa  California   \n",
       "1  2018.06.03.a  2018  Unprovoked  brazil  Pernambuco   \n",
       "\n",
       "                      location  activity                    name   age  \\\n",
       "0  Oceanside, San Diego County  Paddling             Julie Wolfe  57.0   \n",
       "1        Piedade Beach, Recife  Swimming  Jose Ernesto da Silva   18.0   \n",
       "\n",
       "             time     species_  \\\n",
       "0           18h00  white shark   \n",
       "1  Late afternoon  tiger shark   \n",
       "\n",
       "                                                href         date month  \\\n",
       "0  http://sharkattackfile.net/spreadsheets/pdf_di...  25-Jun-2018   Jun   \n",
       "1  http://sharkattackfile.net/spreadsheets/pdf_di...  03-Jun-2018   Jun   \n",
       "\n",
       "  fatal_y/n sex_m_f  \n",
       "0         N       F  \n",
       "1         Y       M  "
      ]
     },
     "execution_count": 2,
     "metadata": {},
     "output_type": "execute_result"
    }
   ],
   "source": [
    "df = pd.read_csv('datos/attacks_limpieza_3.csv', index_col=0)\n",
    "df.head(2)"
   ]
  },
  {
   "cell_type": "markdown",
   "metadata": {},
   "source": [
    "\n",
    "​\n",
    "Es el momento de ponernos a trabajar con los valores nulos 💪🏽. A lo largo de este ejercicio de pair programming vamos a intentar eliminar los valores nulos de nuestras columnas. En la lección hemos aprendido varios métodos, nosotras os planteamos los ejercicios pero sentiros libres de usar el método que más se adapte a vuestras necesidades. Manos a la obra!\n",
    "\n",
    "Lo primero que tenemos que evaluar es en que columnas tenemos nulos y que cantidad tenemos en cada una. ¿Hay alguna columna con una gran cantidad de nulos? En caso de que sea así deberemos eliminarla.\n",
    "\n",
    "Es el momento de eliminar los nulos:\n",
    "\n",
    "- Reemplazad los valores nulos de la columna age por la media de la edad, redondeada a dos decimales.\n"
   ]
  },
  {
   "cell_type": "code",
   "execution_count": 3,
   "metadata": {},
   "outputs": [
    {
     "data": {
      "text/html": [
       "<div>\n",
       "<style scoped>\n",
       "    .dataframe tbody tr th:only-of-type {\n",
       "        vertical-align: middle;\n",
       "    }\n",
       "\n",
       "    .dataframe tbody tr th {\n",
       "        vertical-align: top;\n",
       "    }\n",
       "\n",
       "    .dataframe thead th {\n",
       "        text-align: right;\n",
       "    }\n",
       "</style>\n",
       "<table border=\"1\" class=\"dataframe\">\n",
       "  <thead>\n",
       "    <tr style=\"text-align: right;\">\n",
       "      <th></th>\n",
       "      <th>missing</th>\n",
       "      <th>total</th>\n",
       "      <th>percent</th>\n",
       "    </tr>\n",
       "  </thead>\n",
       "  <tbody>\n",
       "    <tr>\n",
       "      <th>month</th>\n",
       "      <td>181</td>\n",
       "      <td>1672</td>\n",
       "      <td>10.825359</td>\n",
       "    </tr>\n",
       "    <tr>\n",
       "      <th>time</th>\n",
       "      <td>160</td>\n",
       "      <td>1672</td>\n",
       "      <td>9.569378</td>\n",
       "    </tr>\n",
       "    <tr>\n",
       "      <th>age</th>\n",
       "      <td>158</td>\n",
       "      <td>1672</td>\n",
       "      <td>9.449761</td>\n",
       "    </tr>\n",
       "    <tr>\n",
       "      <th>fatal_y/n</th>\n",
       "      <td>99</td>\n",
       "      <td>1672</td>\n",
       "      <td>5.921053</td>\n",
       "    </tr>\n",
       "    <tr>\n",
       "      <th>location</th>\n",
       "      <td>51</td>\n",
       "      <td>1672</td>\n",
       "      <td>3.050239</td>\n",
       "    </tr>\n",
       "    <tr>\n",
       "      <th>area</th>\n",
       "      <td>46</td>\n",
       "      <td>1672</td>\n",
       "      <td>2.751196</td>\n",
       "    </tr>\n",
       "    <tr>\n",
       "      <th>activity</th>\n",
       "      <td>31</td>\n",
       "      <td>1672</td>\n",
       "      <td>1.854067</td>\n",
       "    </tr>\n",
       "    <tr>\n",
       "      <th>country</th>\n",
       "      <td>10</td>\n",
       "      <td>1672</td>\n",
       "      <td>0.598086</td>\n",
       "    </tr>\n",
       "    <tr>\n",
       "      <th>name</th>\n",
       "      <td>9</td>\n",
       "      <td>1672</td>\n",
       "      <td>0.538278</td>\n",
       "    </tr>\n",
       "    <tr>\n",
       "      <th>case_number</th>\n",
       "      <td>0</td>\n",
       "      <td>1672</td>\n",
       "      <td>0.000000</td>\n",
       "    </tr>\n",
       "    <tr>\n",
       "      <th>year</th>\n",
       "      <td>0</td>\n",
       "      <td>1672</td>\n",
       "      <td>0.000000</td>\n",
       "    </tr>\n",
       "    <tr>\n",
       "      <th>type</th>\n",
       "      <td>0</td>\n",
       "      <td>1672</td>\n",
       "      <td>0.000000</td>\n",
       "    </tr>\n",
       "    <tr>\n",
       "      <th>species_</th>\n",
       "      <td>0</td>\n",
       "      <td>1672</td>\n",
       "      <td>0.000000</td>\n",
       "    </tr>\n",
       "    <tr>\n",
       "      <th>href</th>\n",
       "      <td>0</td>\n",
       "      <td>1672</td>\n",
       "      <td>0.000000</td>\n",
       "    </tr>\n",
       "    <tr>\n",
       "      <th>date</th>\n",
       "      <td>0</td>\n",
       "      <td>1672</td>\n",
       "      <td>0.000000</td>\n",
       "    </tr>\n",
       "    <tr>\n",
       "      <th>sex_m_f</th>\n",
       "      <td>0</td>\n",
       "      <td>1672</td>\n",
       "      <td>0.000000</td>\n",
       "    </tr>\n",
       "  </tbody>\n",
       "</table>\n",
       "</div>"
      ],
      "text/plain": [
       "             missing  total    percent\n",
       "month            181   1672  10.825359\n",
       "time             160   1672   9.569378\n",
       "age              158   1672   9.449761\n",
       "fatal_y/n         99   1672   5.921053\n",
       "location          51   1672   3.050239\n",
       "area              46   1672   2.751196\n",
       "activity          31   1672   1.854067\n",
       "country           10   1672   0.598086\n",
       "name               9   1672   0.538278\n",
       "case_number        0   1672   0.000000\n",
       "year               0   1672   0.000000\n",
       "type               0   1672   0.000000\n",
       "species_           0   1672   0.000000\n",
       "href               0   1672   0.000000\n",
       "date               0   1672   0.000000\n",
       "sex_m_f            0   1672   0.000000"
      ]
     },
     "execution_count": 3,
     "metadata": {},
     "output_type": "execute_result"
    }
   ],
   "source": [
    "df.stb.missing()"
   ]
  },
  {
   "cell_type": "code",
   "execution_count": 4,
   "metadata": {},
   "outputs": [],
   "source": [
    "df1 = df.copy()"
   ]
  },
  {
   "cell_type": "code",
   "execution_count": 5,
   "metadata": {},
   "outputs": [],
   "source": [
    "df1['age'].fillna(df1['age'].median, inplace = True)"
   ]
  },
  {
   "cell_type": "markdown",
   "metadata": {},
   "source": [
    "- En relación a la columna de country al tratarse de una columna de tipo categórica, reemplazad los valores nulos por una nueva categória que se llame Unknown.\n"
   ]
  },
  {
   "cell_type": "code",
   "execution_count": 6,
   "metadata": {},
   "outputs": [],
   "source": [
    "df1['country'].replace(np.nan, \"Unknown\", inplace = True)"
   ]
  },
  {
   "cell_type": "code",
   "execution_count": 7,
   "metadata": {},
   "outputs": [
    {
     "data": {
      "text/plain": [
       "array(['usa', 'brazil', 'australia', 'england', 'costa rica', 'maldives',\n",
       "       'south africa', 'cuba', 'spain', 'bahamas', 'indonesia', 'egypt',\n",
       "       'new zealand', 'french polynesia', 'new caledonia', 'ecuador',\n",
       "       'thailand', 'reunion', 'mexico', 'jamaica', 'italy',\n",
       "       'papua new guinea', 'russia', 'seychelles', 'vietnam', 'guam',\n",
       "       'mozambique', 'scotland', 'united kingdom', 'taiwan', 'croatia',\n",
       "       'fiji', 'tonga', 'st. maartin', 'grand cayman', 'vanuatu',\n",
       "       'venezuela', 'turks & caicos', 'okinawa', 'marshall islands',\n",
       "       'mauritius', 'hong kong', 'japan', 'south korea', 'israel',\n",
       "       'micronesia', 'columbia', 'new britain', 'palau',\n",
       "       'solomon islands', 'federated states of micronesia', 'greece',\n",
       "       'british west indies', 'north pacific ocean', 'bermuda',\n",
       "       'philippines', 'american samoa', 'pacific ocean', 'senegal',\n",
       "       'argentina', 'el salvador', 'iraq', 'panama', 'india', 'Unknown',\n",
       "       'barbados', 'martinique', 'guinea', 'greenland', 'france',\n",
       "       'mediterranean sea', 'sweden', 'iceland', 'roatan',\n",
       "       'between portugal & india', 'canada', 'kenya', 'uruguay',\n",
       "       'lebanon', 'sudan', 'djibouti', 'libya', 'sri lanka', 'bahrein',\n",
       "       'korea', 'iran', 'red sea?', 'singapore', 'madagascar',\n",
       "       'nicaragua', 'kiribati', 'saudi arabia', 'burma', 'belize',\n",
       "       'asia?', 'ceylon (sri lanka)'], dtype=object)"
      ]
     },
     "execution_count": 7,
     "metadata": {},
     "output_type": "execute_result"
    }
   ],
   "source": [
    "df1['country'].unique()"
   ]
  },
  {
   "cell_type": "markdown",
   "metadata": {},
   "source": [
    "- Reemplazad los valores nulos de la columna fatal por Unknown.\n"
   ]
  },
  {
   "cell_type": "code",
   "execution_count": 8,
   "metadata": {},
   "outputs": [],
   "source": [
    "df1['fatal_y/n'].replace(np.nan, \"Unknown\", inplace = True)"
   ]
  },
  {
   "cell_type": "code",
   "execution_count": 9,
   "metadata": {},
   "outputs": [
    {
     "data": {
      "text/html": [
       "<div>\n",
       "<style scoped>\n",
       "    .dataframe tbody tr th:only-of-type {\n",
       "        vertical-align: middle;\n",
       "    }\n",
       "\n",
       "    .dataframe tbody tr th {\n",
       "        vertical-align: top;\n",
       "    }\n",
       "\n",
       "    .dataframe thead th {\n",
       "        text-align: right;\n",
       "    }\n",
       "</style>\n",
       "<table border=\"1\" class=\"dataframe\">\n",
       "  <thead>\n",
       "    <tr style=\"text-align: right;\">\n",
       "      <th></th>\n",
       "      <th>missing</th>\n",
       "      <th>total</th>\n",
       "      <th>percent</th>\n",
       "    </tr>\n",
       "  </thead>\n",
       "  <tbody>\n",
       "    <tr>\n",
       "      <th>month</th>\n",
       "      <td>181</td>\n",
       "      <td>1672</td>\n",
       "      <td>10.825359</td>\n",
       "    </tr>\n",
       "    <tr>\n",
       "      <th>time</th>\n",
       "      <td>160</td>\n",
       "      <td>1672</td>\n",
       "      <td>9.569378</td>\n",
       "    </tr>\n",
       "    <tr>\n",
       "      <th>location</th>\n",
       "      <td>51</td>\n",
       "      <td>1672</td>\n",
       "      <td>3.050239</td>\n",
       "    </tr>\n",
       "    <tr>\n",
       "      <th>area</th>\n",
       "      <td>46</td>\n",
       "      <td>1672</td>\n",
       "      <td>2.751196</td>\n",
       "    </tr>\n",
       "    <tr>\n",
       "      <th>activity</th>\n",
       "      <td>31</td>\n",
       "      <td>1672</td>\n",
       "      <td>1.854067</td>\n",
       "    </tr>\n",
       "    <tr>\n",
       "      <th>name</th>\n",
       "      <td>9</td>\n",
       "      <td>1672</td>\n",
       "      <td>0.538278</td>\n",
       "    </tr>\n",
       "    <tr>\n",
       "      <th>case_number</th>\n",
       "      <td>0</td>\n",
       "      <td>1672</td>\n",
       "      <td>0.000000</td>\n",
       "    </tr>\n",
       "    <tr>\n",
       "      <th>year</th>\n",
       "      <td>0</td>\n",
       "      <td>1672</td>\n",
       "      <td>0.000000</td>\n",
       "    </tr>\n",
       "    <tr>\n",
       "      <th>type</th>\n",
       "      <td>0</td>\n",
       "      <td>1672</td>\n",
       "      <td>0.000000</td>\n",
       "    </tr>\n",
       "    <tr>\n",
       "      <th>country</th>\n",
       "      <td>0</td>\n",
       "      <td>1672</td>\n",
       "      <td>0.000000</td>\n",
       "    </tr>\n",
       "    <tr>\n",
       "      <th>age</th>\n",
       "      <td>0</td>\n",
       "      <td>1672</td>\n",
       "      <td>0.000000</td>\n",
       "    </tr>\n",
       "    <tr>\n",
       "      <th>species_</th>\n",
       "      <td>0</td>\n",
       "      <td>1672</td>\n",
       "      <td>0.000000</td>\n",
       "    </tr>\n",
       "    <tr>\n",
       "      <th>href</th>\n",
       "      <td>0</td>\n",
       "      <td>1672</td>\n",
       "      <td>0.000000</td>\n",
       "    </tr>\n",
       "    <tr>\n",
       "      <th>date</th>\n",
       "      <td>0</td>\n",
       "      <td>1672</td>\n",
       "      <td>0.000000</td>\n",
       "    </tr>\n",
       "    <tr>\n",
       "      <th>fatal_y/n</th>\n",
       "      <td>0</td>\n",
       "      <td>1672</td>\n",
       "      <td>0.000000</td>\n",
       "    </tr>\n",
       "    <tr>\n",
       "      <th>sex_m_f</th>\n",
       "      <td>0</td>\n",
       "      <td>1672</td>\n",
       "      <td>0.000000</td>\n",
       "    </tr>\n",
       "  </tbody>\n",
       "</table>\n",
       "</div>"
      ],
      "text/plain": [
       "             missing  total    percent\n",
       "month            181   1672  10.825359\n",
       "time             160   1672   9.569378\n",
       "location          51   1672   3.050239\n",
       "area              46   1672   2.751196\n",
       "activity          31   1672   1.854067\n",
       "name               9   1672   0.538278\n",
       "case_number        0   1672   0.000000\n",
       "year               0   1672   0.000000\n",
       "type               0   1672   0.000000\n",
       "country            0   1672   0.000000\n",
       "age                0   1672   0.000000\n",
       "species_           0   1672   0.000000\n",
       "href               0   1672   0.000000\n",
       "date               0   1672   0.000000\n",
       "fatal_y/n          0   1672   0.000000\n",
       "sex_m_f            0   1672   0.000000"
      ]
     },
     "execution_count": 9,
     "metadata": {},
     "output_type": "execute_result"
    }
   ],
   "source": [
    "df1.stb.missing()"
   ]
  },
  {
   "cell_type": "code",
   "execution_count": 10,
   "metadata": {},
   "outputs": [
    {
     "data": {
      "text/plain": [
       "array(['N', 'Y', 'Unknown'], dtype=object)"
      ]
     },
     "execution_count": 10,
     "metadata": {},
     "output_type": "execute_result"
    }
   ],
   "source": [
    "df1['fatal_y/n'].unique()"
   ]
  },
  {
   "cell_type": "markdown",
   "metadata": {},
   "source": [
    "- Reemplazad los valores nulos de la columna type por el valor más frecuente (la moda).\n"
   ]
  },
  {
   "cell_type": "code",
   "execution_count": 11,
   "metadata": {},
   "outputs": [
    {
     "data": {
      "text/plain": [
       "'Unprovoked'"
      ]
     },
     "execution_count": 11,
     "metadata": {},
     "output_type": "execute_result"
    }
   ],
   "source": [
    "df1.type.mode()[0]"
   ]
  },
  {
   "cell_type": "markdown",
   "metadata": {},
   "source": [
    "- Reemplazad los valores nulos de la columna fecha por Unknown.\n"
   ]
  },
  {
   "cell_type": "code",
   "execution_count": 12,
   "metadata": {},
   "outputs": [],
   "source": [
    "df1['type'].replace(np.nan, df.type.mode()[0], inplace = True)"
   ]
  },
  {
   "cell_type": "code",
   "execution_count": 13,
   "metadata": {},
   "outputs": [
    {
     "data": {
      "text/plain": [
       "array(['Boating', 'Unprovoked', 'Provoked', 'Invalid', 'Sea Disaster',\n",
       "       'Boat'], dtype=object)"
      ]
     },
     "execution_count": 13,
     "metadata": {},
     "output_type": "execute_result"
    }
   ],
   "source": [
    "df1['type'].unique()"
   ]
  },
  {
   "cell_type": "markdown",
   "metadata": {},
   "source": [
    "- Guardad el csv para seguir trabajando con el en los siguientes ejercicios de pair."
   ]
  },
  {
   "cell_type": "code",
   "execution_count": null,
   "metadata": {},
   "outputs": [],
   "source": [
    "df1.to_csv('datos/attacks_limpieza_4.csv')"
   ]
  }
 ],
 "metadata": {
  "kernelspec": {
   "display_name": "Python 3.9.7 ('base')",
   "language": "python",
   "name": "python3"
  },
  "language_info": {
   "codemirror_mode": {
    "name": "ipython",
    "version": 3
   },
   "file_extension": ".py",
   "mimetype": "text/x-python",
   "name": "python",
   "nbconvert_exporter": "python",
   "pygments_lexer": "ipython3",
   "version": "3.9.7"
  },
  "orig_nbformat": 4,
  "vscode": {
   "interpreter": {
    "hash": "6be5d780ee9b0e6fe20ff9090f4981b24f52f07297829e94136e87c5137905e3"
   }
  }
 },
 "nbformat": 4,
 "nbformat_minor": 2
}
